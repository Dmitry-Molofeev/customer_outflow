{
 "cells": [
  {
   "cell_type": "markdown",
   "metadata": {
    "toc": true
   },
   "source": [
    "<h1>Содержание<span class=\"tocSkip\"></span></h1>\n",
    "<div class=\"toc\"><ul class=\"toc-item\"><li><span><a href=\"#Подготовка-данных\" data-toc-modified-id=\"Подготовка-данных-1\"><span class=\"toc-item-num\">1&nbsp;&nbsp;</span>Подготовка данных</a></span></li><li><span><a href=\"#Исследование-задачи\" data-toc-modified-id=\"Исследование-задачи-2\"><span class=\"toc-item-num\">2&nbsp;&nbsp;</span>Исследование задачи</a></span></li><li><span><a href=\"#Борьба-с-дисбалансом\" data-toc-modified-id=\"Борьба-с-дисбалансом-3\"><span class=\"toc-item-num\">3&nbsp;&nbsp;</span>Борьба с дисбалансом</a></span></li><li><span><a href=\"#Тестирование-модели\" data-toc-modified-id=\"Тестирование-модели-4\"><span class=\"toc-item-num\">4&nbsp;&nbsp;</span>Тестирование модели</a></span></li><li><span><a href=\"#Чек-лист-готовности-проекта\" data-toc-modified-id=\"Чек-лист-готовности-проекта-5\"><span class=\"toc-item-num\">5&nbsp;&nbsp;</span>Чек-лист готовности проекта</a></span></li></ul></div>"
   ]
  },
  {
   "cell_type": "markdown",
   "metadata": {},
   "source": [
    "# Отток клиентов"
   ]
  },
  {
   "cell_type": "markdown",
   "metadata": {},
   "source": [
    "Из «Бета-Банка» стали уходить клиенты. Каждый месяц. Немного, но заметно. Банковские маркетологи посчитали: сохранять текущих клиентов дешевле, чем привлекать новых.\n",
    "\n",
    "Нужно спрогнозировать, уйдёт клиент из банка в ближайшее время или нет. Вам предоставлены исторические данные о поведении клиентов и расторжении договоров с банком. \n",
    "\n",
    "Постройте модель с предельно большим значением *F1*-меры. Чтобы сдать проект успешно, нужно довести метрику до 0.59. Проверьте *F1*-меру на тестовой выборке самостоятельно.\n",
    "\n",
    "Дополнительно измеряйте *AUC-ROC*, сравнивайте её значение с *F1*-мерой.\n",
    "\n",
    "Источник данных: [https://www.kaggle.com/barelydedicated/bank-customer-churn-modeling](https://www.kaggle.com/barelydedicated/bank-customer-churn-modeling)"
   ]
  },
  {
   "cell_type": "markdown",
   "metadata": {},
   "source": [
    "**Описание данных**\n",
    "\n",
    "\n",
    "Признаки:\n",
    "- RowNumber — индекс строки в данных\n",
    "- CustomerId — уникальный идентификатор клиента\n",
    "- Surname — фамилия\n",
    "- CreditScore — кредитный рейтинг\n",
    "- Geography — страна проживания\n",
    "- Gender — пол\n",
    "- Age — возраст\n",
    "- Tenure — сколько лет человек является клиентом банка\n",
    "- Balance — баланс на счёте\n",
    "- NumOfProducts — количество продуктов банка, используемых клиентом\n",
    "- HasCrCard — наличие кредитной карты\n",
    "- IsActiveMember — активность клиента\n",
    "- EstimatedSalary — предполагаемая зарплата\n",
    "\n",
    "Целевой признак:\n",
    "- Exited — факт ухода клиента"
   ]
  },
  {
   "cell_type": "markdown",
   "metadata": {},
   "source": [
    "**Цель исследования**\n",
    "\n",
    "Построить модель с максимально большим значением F1-меры, доведя метрику по крайней мере до 0.59. \n",
    "\n",
    "**Ход исследования**\n",
    "\n",
    "Данные о тарифах получены их файла `datasets/Churn.csv`. В проекте мы изучим данные, разделим файлы на выборки, исследуем разлчные модели для поиска наилучшей метрики F1, в том числе с учетом возможного дисбаланса, проверим качество на тестовой выборке, а также проведем исследование модели метрикой AUC-ROC.\n",
    "\n",
    "Таким образом, исследование пройдет в ряд этапов:\n",
    "- открытие файла и изучение данных; \n",
    "- разделение исходных данных на обучающую, валидационную и тестовую выборки;\n",
    "- исследование баланса, качества разных моделей;\n",
    "- применение различных методов устранения дисбаланса;\n",
    "- выбор модели с наибольшей *F1-метрикой*;\n",
    "- проверка качества наилучшей модели на тестовой выборке;\n",
    "- исследование модели метрикой AUC-ROC;\n",
    "- формулировка выводов."
   ]
  },
  {
   "cell_type": "markdown",
   "metadata": {},
   "source": [
    "## Подготовка данных"
   ]
  },
  {
   "cell_type": "markdown",
   "metadata": {},
   "source": [
    "Предварительно импортируем необходимые для работы библиотеки."
   ]
  },
  {
   "cell_type": "code",
   "execution_count": 1,
   "metadata": {},
   "outputs": [],
   "source": [
    "import pandas as pd\n",
    "import numpy as np\n",
    "import matplotlib.pyplot as plt\n",
    "import seaborn as sns\n",
    "from sklearn.preprocessing import OrdinalEncoder, StandardScaler\n",
    "from sklearn.tree import DecisionTreeClassifier\n",
    "from sklearn.ensemble import RandomForestClassifier\n",
    "from sklearn.linear_model import LogisticRegression \n",
    "from sklearn.model_selection import train_test_split\n",
    "from sklearn.utils import shuffle \n",
    "from sklearn.metrics import precision_score, recall_score, f1_score, roc_auc_score, roc_curve\n",
    "from tqdm import tqdm\n",
    " n"
   ]
  },
  {
   "cell_type": "markdown",
   "metadata": {},
   "source": [
    "Загрузим файл с базой данных, посмотрим на основные характеристики датафрейма."
   ]
  },
  {
   "cell_type": "code",
   "execution_count": 2,
   "metadata": {},
   "outputs": [
    {
     "data": {
      "text/html": [
       "<div>\n",
       "<style scoped>\n",
       "    .dataframe tbody tr th:only-of-type {\n",
       "        vertical-align: middle;\n",
       "    }\n",
       "\n",
       "    .dataframe tbody tr th {\n",
       "        vertical-align: top;\n",
       "    }\n",
       "\n",
       "    .dataframe thead th {\n",
       "        text-align: right;\n",
       "    }\n",
       "</style>\n",
       "<table border=\"1\" class=\"dataframe\">\n",
       "  <thead>\n",
       "    <tr style=\"text-align: right;\">\n",
       "      <th></th>\n",
       "      <th>RowNumber</th>\n",
       "      <th>CustomerId</th>\n",
       "      <th>Surname</th>\n",
       "      <th>CreditScore</th>\n",
       "      <th>Geography</th>\n",
       "      <th>Gender</th>\n",
       "      <th>Age</th>\n",
       "      <th>Tenure</th>\n",
       "      <th>Balance</th>\n",
       "      <th>NumOfProducts</th>\n",
       "      <th>HasCrCard</th>\n",
       "      <th>IsActiveMember</th>\n",
       "      <th>EstimatedSalary</th>\n",
       "      <th>Exited</th>\n",
       "    </tr>\n",
       "  </thead>\n",
       "  <tbody>\n",
       "    <tr>\n",
       "      <th>0</th>\n",
       "      <td>1</td>\n",
       "      <td>15634602</td>\n",
       "      <td>Hargrave</td>\n",
       "      <td>619</td>\n",
       "      <td>France</td>\n",
       "      <td>Female</td>\n",
       "      <td>42</td>\n",
       "      <td>2.0</td>\n",
       "      <td>0.00</td>\n",
       "      <td>1</td>\n",
       "      <td>1</td>\n",
       "      <td>1</td>\n",
       "      <td>101348.88</td>\n",
       "      <td>1</td>\n",
       "    </tr>\n",
       "    <tr>\n",
       "      <th>1</th>\n",
       "      <td>2</td>\n",
       "      <td>15647311</td>\n",
       "      <td>Hill</td>\n",
       "      <td>608</td>\n",
       "      <td>Spain</td>\n",
       "      <td>Female</td>\n",
       "      <td>41</td>\n",
       "      <td>1.0</td>\n",
       "      <td>83807.86</td>\n",
       "      <td>1</td>\n",
       "      <td>0</td>\n",
       "      <td>1</td>\n",
       "      <td>112542.58</td>\n",
       "      <td>0</td>\n",
       "    </tr>\n",
       "    <tr>\n",
       "      <th>2</th>\n",
       "      <td>3</td>\n",
       "      <td>15619304</td>\n",
       "      <td>Onio</td>\n",
       "      <td>502</td>\n",
       "      <td>France</td>\n",
       "      <td>Female</td>\n",
       "      <td>42</td>\n",
       "      <td>8.0</td>\n",
       "      <td>159660.80</td>\n",
       "      <td>3</td>\n",
       "      <td>1</td>\n",
       "      <td>0</td>\n",
       "      <td>113931.57</td>\n",
       "      <td>1</td>\n",
       "    </tr>\n",
       "    <tr>\n",
       "      <th>3</th>\n",
       "      <td>4</td>\n",
       "      <td>15701354</td>\n",
       "      <td>Boni</td>\n",
       "      <td>699</td>\n",
       "      <td>France</td>\n",
       "      <td>Female</td>\n",
       "      <td>39</td>\n",
       "      <td>1.0</td>\n",
       "      <td>0.00</td>\n",
       "      <td>2</td>\n",
       "      <td>0</td>\n",
       "      <td>0</td>\n",
       "      <td>93826.63</td>\n",
       "      <td>0</td>\n",
       "    </tr>\n",
       "    <tr>\n",
       "      <th>4</th>\n",
       "      <td>5</td>\n",
       "      <td>15737888</td>\n",
       "      <td>Mitchell</td>\n",
       "      <td>850</td>\n",
       "      <td>Spain</td>\n",
       "      <td>Female</td>\n",
       "      <td>43</td>\n",
       "      <td>2.0</td>\n",
       "      <td>125510.82</td>\n",
       "      <td>1</td>\n",
       "      <td>1</td>\n",
       "      <td>1</td>\n",
       "      <td>79084.10</td>\n",
       "      <td>0</td>\n",
       "    </tr>\n",
       "  </tbody>\n",
       "</table>\n",
       "</div>"
      ],
      "text/plain": [
       "   RowNumber  CustomerId   Surname  CreditScore Geography  Gender  Age  \\\n",
       "0          1    15634602  Hargrave          619    France  Female   42   \n",
       "1          2    15647311      Hill          608     Spain  Female   41   \n",
       "2          3    15619304      Onio          502    France  Female   42   \n",
       "3          4    15701354      Boni          699    France  Female   39   \n",
       "4          5    15737888  Mitchell          850     Spain  Female   43   \n",
       "\n",
       "   Tenure    Balance  NumOfProducts  HasCrCard  IsActiveMember  \\\n",
       "0     2.0       0.00              1          1               1   \n",
       "1     1.0   83807.86              1          0               1   \n",
       "2     8.0  159660.80              3          1               0   \n",
       "3     1.0       0.00              2          0               0   \n",
       "4     2.0  125510.82              1          1               1   \n",
       "\n",
       "   EstimatedSalary  Exited  \n",
       "0        101348.88       1  \n",
       "1        112542.58       0  \n",
       "2        113931.57       1  \n",
       "3         93826.63       0  \n",
       "4         79084.10       0  "
      ]
     },
     "execution_count": 2,
     "metadata": {},
     "output_type": "execute_result"
    }
   ],
   "source": [
    "try:\n",
    "    df = pd.read_csv('https://code.s3.yandex.net/datasets/Churn.csv')\n",
    "except:\n",
    "    df = pd.read_csv('D:/learn_data/Churn.csv')\n",
    "\n",
    "df.head()"
   ]
  },
  {
   "cell_type": "code",
   "execution_count": 3,
   "metadata": {},
   "outputs": [
    {
     "name": "stdout",
     "output_type": "stream",
     "text": [
      "<class 'pandas.core.frame.DataFrame'>\n",
      "RangeIndex: 10000 entries, 0 to 9999\n",
      "Data columns (total 14 columns):\n",
      " #   Column           Non-Null Count  Dtype  \n",
      "---  ------           --------------  -----  \n",
      " 0   RowNumber        10000 non-null  int64  \n",
      " 1   CustomerId       10000 non-null  int64  \n",
      " 2   Surname          10000 non-null  object \n",
      " 3   CreditScore      10000 non-null  int64  \n",
      " 4   Geography        10000 non-null  object \n",
      " 5   Gender           10000 non-null  object \n",
      " 6   Age              10000 non-null  int64  \n",
      " 7   Tenure           9091 non-null   float64\n",
      " 8   Balance          10000 non-null  float64\n",
      " 9   NumOfProducts    10000 non-null  int64  \n",
      " 10  HasCrCard        10000 non-null  int64  \n",
      " 11  IsActiveMember   10000 non-null  int64  \n",
      " 12  EstimatedSalary  10000 non-null  float64\n",
      " 13  Exited           10000 non-null  int64  \n",
      "dtypes: float64(3), int64(8), object(3)\n",
      "memory usage: 1.1+ MB\n"
     ]
    }
   ],
   "source": [
    "df.info()"
   ]
  },
  {
   "cell_type": "code",
   "execution_count": 4,
   "metadata": {},
   "outputs": [
    {
     "data": {
      "text/html": [
       "<div>\n",
       "<style scoped>\n",
       "    .dataframe tbody tr th:only-of-type {\n",
       "        vertical-align: middle;\n",
       "    }\n",
       "\n",
       "    .dataframe tbody tr th {\n",
       "        vertical-align: top;\n",
       "    }\n",
       "\n",
       "    .dataframe thead th {\n",
       "        text-align: right;\n",
       "    }\n",
       "</style>\n",
       "<table border=\"1\" class=\"dataframe\">\n",
       "  <thead>\n",
       "    <tr style=\"text-align: right;\">\n",
       "      <th></th>\n",
       "      <th>RowNumber</th>\n",
       "      <th>CustomerId</th>\n",
       "      <th>CreditScore</th>\n",
       "      <th>Age</th>\n",
       "      <th>Tenure</th>\n",
       "      <th>Balance</th>\n",
       "      <th>NumOfProducts</th>\n",
       "      <th>HasCrCard</th>\n",
       "      <th>IsActiveMember</th>\n",
       "      <th>EstimatedSalary</th>\n",
       "      <th>Exited</th>\n",
       "    </tr>\n",
       "  </thead>\n",
       "  <tbody>\n",
       "    <tr>\n",
       "      <th>count</th>\n",
       "      <td>10000.00000</td>\n",
       "      <td>1.000000e+04</td>\n",
       "      <td>10000.000000</td>\n",
       "      <td>10000.000000</td>\n",
       "      <td>9091.000000</td>\n",
       "      <td>10000.000000</td>\n",
       "      <td>10000.000000</td>\n",
       "      <td>10000.00000</td>\n",
       "      <td>10000.000000</td>\n",
       "      <td>10000.000000</td>\n",
       "      <td>10000.000000</td>\n",
       "    </tr>\n",
       "    <tr>\n",
       "      <th>mean</th>\n",
       "      <td>5000.50000</td>\n",
       "      <td>1.569094e+07</td>\n",
       "      <td>650.528800</td>\n",
       "      <td>38.921800</td>\n",
       "      <td>4.997690</td>\n",
       "      <td>76485.889288</td>\n",
       "      <td>1.530200</td>\n",
       "      <td>0.70550</td>\n",
       "      <td>0.515100</td>\n",
       "      <td>100090.239881</td>\n",
       "      <td>0.203700</td>\n",
       "    </tr>\n",
       "    <tr>\n",
       "      <th>std</th>\n",
       "      <td>2886.89568</td>\n",
       "      <td>7.193619e+04</td>\n",
       "      <td>96.653299</td>\n",
       "      <td>10.487806</td>\n",
       "      <td>2.894723</td>\n",
       "      <td>62397.405202</td>\n",
       "      <td>0.581654</td>\n",
       "      <td>0.45584</td>\n",
       "      <td>0.499797</td>\n",
       "      <td>57510.492818</td>\n",
       "      <td>0.402769</td>\n",
       "    </tr>\n",
       "    <tr>\n",
       "      <th>min</th>\n",
       "      <td>1.00000</td>\n",
       "      <td>1.556570e+07</td>\n",
       "      <td>350.000000</td>\n",
       "      <td>18.000000</td>\n",
       "      <td>0.000000</td>\n",
       "      <td>0.000000</td>\n",
       "      <td>1.000000</td>\n",
       "      <td>0.00000</td>\n",
       "      <td>0.000000</td>\n",
       "      <td>11.580000</td>\n",
       "      <td>0.000000</td>\n",
       "    </tr>\n",
       "    <tr>\n",
       "      <th>25%</th>\n",
       "      <td>2500.75000</td>\n",
       "      <td>1.562853e+07</td>\n",
       "      <td>584.000000</td>\n",
       "      <td>32.000000</td>\n",
       "      <td>2.000000</td>\n",
       "      <td>0.000000</td>\n",
       "      <td>1.000000</td>\n",
       "      <td>0.00000</td>\n",
       "      <td>0.000000</td>\n",
       "      <td>51002.110000</td>\n",
       "      <td>0.000000</td>\n",
       "    </tr>\n",
       "    <tr>\n",
       "      <th>50%</th>\n",
       "      <td>5000.50000</td>\n",
       "      <td>1.569074e+07</td>\n",
       "      <td>652.000000</td>\n",
       "      <td>37.000000</td>\n",
       "      <td>5.000000</td>\n",
       "      <td>97198.540000</td>\n",
       "      <td>1.000000</td>\n",
       "      <td>1.00000</td>\n",
       "      <td>1.000000</td>\n",
       "      <td>100193.915000</td>\n",
       "      <td>0.000000</td>\n",
       "    </tr>\n",
       "    <tr>\n",
       "      <th>75%</th>\n",
       "      <td>7500.25000</td>\n",
       "      <td>1.575323e+07</td>\n",
       "      <td>718.000000</td>\n",
       "      <td>44.000000</td>\n",
       "      <td>7.000000</td>\n",
       "      <td>127644.240000</td>\n",
       "      <td>2.000000</td>\n",
       "      <td>1.00000</td>\n",
       "      <td>1.000000</td>\n",
       "      <td>149388.247500</td>\n",
       "      <td>0.000000</td>\n",
       "    </tr>\n",
       "    <tr>\n",
       "      <th>max</th>\n",
       "      <td>10000.00000</td>\n",
       "      <td>1.581569e+07</td>\n",
       "      <td>850.000000</td>\n",
       "      <td>92.000000</td>\n",
       "      <td>10.000000</td>\n",
       "      <td>250898.090000</td>\n",
       "      <td>4.000000</td>\n",
       "      <td>1.00000</td>\n",
       "      <td>1.000000</td>\n",
       "      <td>199992.480000</td>\n",
       "      <td>1.000000</td>\n",
       "    </tr>\n",
       "  </tbody>\n",
       "</table>\n",
       "</div>"
      ],
      "text/plain": [
       "         RowNumber    CustomerId   CreditScore           Age       Tenure  \\\n",
       "count  10000.00000  1.000000e+04  10000.000000  10000.000000  9091.000000   \n",
       "mean    5000.50000  1.569094e+07    650.528800     38.921800     4.997690   \n",
       "std     2886.89568  7.193619e+04     96.653299     10.487806     2.894723   \n",
       "min        1.00000  1.556570e+07    350.000000     18.000000     0.000000   \n",
       "25%     2500.75000  1.562853e+07    584.000000     32.000000     2.000000   \n",
       "50%     5000.50000  1.569074e+07    652.000000     37.000000     5.000000   \n",
       "75%     7500.25000  1.575323e+07    718.000000     44.000000     7.000000   \n",
       "max    10000.00000  1.581569e+07    850.000000     92.000000    10.000000   \n",
       "\n",
       "             Balance  NumOfProducts    HasCrCard  IsActiveMember  \\\n",
       "count   10000.000000   10000.000000  10000.00000    10000.000000   \n",
       "mean    76485.889288       1.530200      0.70550        0.515100   \n",
       "std     62397.405202       0.581654      0.45584        0.499797   \n",
       "min         0.000000       1.000000      0.00000        0.000000   \n",
       "25%         0.000000       1.000000      0.00000        0.000000   \n",
       "50%     97198.540000       1.000000      1.00000        1.000000   \n",
       "75%    127644.240000       2.000000      1.00000        1.000000   \n",
       "max    250898.090000       4.000000      1.00000        1.000000   \n",
       "\n",
       "       EstimatedSalary        Exited  \n",
       "count     10000.000000  10000.000000  \n",
       "mean     100090.239881      0.203700  \n",
       "std       57510.492818      0.402769  \n",
       "min          11.580000      0.000000  \n",
       "25%       51002.110000      0.000000  \n",
       "50%      100193.915000      0.000000  \n",
       "75%      149388.247500      0.000000  \n",
       "max      199992.480000      1.000000  "
      ]
     },
     "execution_count": 4,
     "metadata": {},
     "output_type": "execute_result"
    }
   ],
   "source": [
    "df.describe()"
   ]
  },
  {
   "cell_type": "markdown",
   "metadata": {},
   "source": [
    "Также сразу же проверим данные на наличие дубликатов. "
   ]
  },
  {
   "cell_type": "code",
   "execution_count": 5,
   "metadata": {},
   "outputs": [
    {
     "data": {
      "text/plain": [
       "0"
      ]
     },
     "execution_count": 5,
     "metadata": {},
     "output_type": "execute_result"
    }
   ],
   "source": [
    "df.duplicated().sum()"
   ]
  },
  {
   "cell_type": "markdown",
   "metadata": {},
   "source": [
    "Как мы видим, явных дубликатов не имеется. С учетом тоого, что в колонке `'Tenure'` имеются попуски, взглянем на то, какие значения имеются в данной колонке. "
   ]
  },
  {
   "cell_type": "code",
   "execution_count": 6,
   "metadata": {},
   "outputs": [
    {
     "data": {
      "text/plain": [
       "array([ 0.,  1.,  2.,  3.,  4.,  5.,  6.,  7.,  8.,  9., 10., nan])"
      ]
     },
     "execution_count": 6,
     "metadata": {},
     "output_type": "execute_result"
    }
   ],
   "source": [
    "df['Tenure'].sort_values().unique()"
   ]
  },
  {
   "cell_type": "markdown",
   "metadata": {},
   "source": [
    "От пропусков надо избавиться (поскольку моделям придется работать с числами), что можно сделать различными способами, например, заменой пропусков или их удалением. С учетом того, что в столбце `'Tenure'` содержатся сведения о количестве лет, в течение которых лицо являлось клиентом банка, при этом имется все значения от **0** до **10**, а также того, что нам не известен механизм образования пропусков, сделать адекватную замену данных попусков будет сложно. В то же время, удаление данных пропусков, может теоретически исказить общую картину, поэтому предлагаю заменить пропуски значением **-1**, поставив таким образом заглушку, а в дальнейшем предоставим нашим моделям обучаться, используя данные, содержащиеся в строках с такими попусками, при этом не допусив необоснованного роста количества какого-либо из адекватных зачений данного столбца.    "
   ]
  },
  {
   "cell_type": "code",
   "execution_count": 7,
   "metadata": {},
   "outputs": [
    {
     "data": {
      "text/plain": [
       "5.0"
      ]
     },
     "execution_count": 7,
     "metadata": {},
     "output_type": "execute_result"
    }
   ],
   "source": [
    "df['Tenure'].median()"
   ]
  },
  {
   "cell_type": "code",
   "execution_count": 8,
   "metadata": {},
   "outputs": [
    {
     "name": "stdout",
     "output_type": "stream",
     "text": [
      "<class 'pandas.core.frame.DataFrame'>\n",
      "RangeIndex: 10000 entries, 0 to 9999\n",
      "Data columns (total 14 columns):\n",
      " #   Column           Non-Null Count  Dtype  \n",
      "---  ------           --------------  -----  \n",
      " 0   RowNumber        10000 non-null  int64  \n",
      " 1   CustomerId       10000 non-null  int64  \n",
      " 2   Surname          10000 non-null  object \n",
      " 3   CreditScore      10000 non-null  int64  \n",
      " 4   Geography        10000 non-null  object \n",
      " 5   Gender           10000 non-null  object \n",
      " 6   Age              10000 non-null  int64  \n",
      " 7   Tenure           10000 non-null  float64\n",
      " 8   Balance          10000 non-null  float64\n",
      " 9   NumOfProducts    10000 non-null  int64  \n",
      " 10  HasCrCard        10000 non-null  int64  \n",
      " 11  IsActiveMember   10000 non-null  int64  \n",
      " 12  EstimatedSalary  10000 non-null  float64\n",
      " 13  Exited           10000 non-null  int64  \n",
      "dtypes: float64(3), int64(8), object(3)\n",
      "memory usage: 1.1+ MB\n"
     ]
    }
   ],
   "source": [
    "df['Tenure'] = df['Tenure'].fillna(round(df['Tenure'].mean()))\n",
    "df.info()"
   ]
  },
  {
   "cell_type": "markdown",
   "metadata": {},
   "source": [
    "Итак, пропусков во фрейме данных больше не имеется. Теперь, учитывая тот факт, что данные, содержащиеся в  столбцах `'RowNumber', 'CustomerId', 'Surname'` не содержат каких-либо сведений, которые могут повлиять на значение целевго признака (уход клиента из банка, который никак не может зависить от порядкового номера строки датафрейма, уникального идентификатора клиента или его фамилии), данные этих столбцов нам не понадобяться, поэтому просто удалим их."
   ]
  },
  {
   "cell_type": "code",
   "execution_count": 9,
   "metadata": {},
   "outputs": [
    {
     "data": {
      "text/html": [
       "<div>\n",
       "<style scoped>\n",
       "    .dataframe tbody tr th:only-of-type {\n",
       "        vertical-align: middle;\n",
       "    }\n",
       "\n",
       "    .dataframe tbody tr th {\n",
       "        vertical-align: top;\n",
       "    }\n",
       "\n",
       "    .dataframe thead th {\n",
       "        text-align: right;\n",
       "    }\n",
       "</style>\n",
       "<table border=\"1\" class=\"dataframe\">\n",
       "  <thead>\n",
       "    <tr style=\"text-align: right;\">\n",
       "      <th></th>\n",
       "      <th>CreditScore</th>\n",
       "      <th>Geography</th>\n",
       "      <th>Gender</th>\n",
       "      <th>Age</th>\n",
       "      <th>Tenure</th>\n",
       "      <th>Balance</th>\n",
       "      <th>NumOfProducts</th>\n",
       "      <th>HasCrCard</th>\n",
       "      <th>IsActiveMember</th>\n",
       "      <th>EstimatedSalary</th>\n",
       "      <th>Exited</th>\n",
       "    </tr>\n",
       "  </thead>\n",
       "  <tbody>\n",
       "    <tr>\n",
       "      <th>0</th>\n",
       "      <td>619</td>\n",
       "      <td>France</td>\n",
       "      <td>Female</td>\n",
       "      <td>42</td>\n",
       "      <td>2.0</td>\n",
       "      <td>0.00</td>\n",
       "      <td>1</td>\n",
       "      <td>1</td>\n",
       "      <td>1</td>\n",
       "      <td>101348.88</td>\n",
       "      <td>1</td>\n",
       "    </tr>\n",
       "    <tr>\n",
       "      <th>1</th>\n",
       "      <td>608</td>\n",
       "      <td>Spain</td>\n",
       "      <td>Female</td>\n",
       "      <td>41</td>\n",
       "      <td>1.0</td>\n",
       "      <td>83807.86</td>\n",
       "      <td>1</td>\n",
       "      <td>0</td>\n",
       "      <td>1</td>\n",
       "      <td>112542.58</td>\n",
       "      <td>0</td>\n",
       "    </tr>\n",
       "    <tr>\n",
       "      <th>2</th>\n",
       "      <td>502</td>\n",
       "      <td>France</td>\n",
       "      <td>Female</td>\n",
       "      <td>42</td>\n",
       "      <td>8.0</td>\n",
       "      <td>159660.80</td>\n",
       "      <td>3</td>\n",
       "      <td>1</td>\n",
       "      <td>0</td>\n",
       "      <td>113931.57</td>\n",
       "      <td>1</td>\n",
       "    </tr>\n",
       "    <tr>\n",
       "      <th>3</th>\n",
       "      <td>699</td>\n",
       "      <td>France</td>\n",
       "      <td>Female</td>\n",
       "      <td>39</td>\n",
       "      <td>1.0</td>\n",
       "      <td>0.00</td>\n",
       "      <td>2</td>\n",
       "      <td>0</td>\n",
       "      <td>0</td>\n",
       "      <td>93826.63</td>\n",
       "      <td>0</td>\n",
       "    </tr>\n",
       "    <tr>\n",
       "      <th>4</th>\n",
       "      <td>850</td>\n",
       "      <td>Spain</td>\n",
       "      <td>Female</td>\n",
       "      <td>43</td>\n",
       "      <td>2.0</td>\n",
       "      <td>125510.82</td>\n",
       "      <td>1</td>\n",
       "      <td>1</td>\n",
       "      <td>1</td>\n",
       "      <td>79084.10</td>\n",
       "      <td>0</td>\n",
       "    </tr>\n",
       "    <tr>\n",
       "      <th>...</th>\n",
       "      <td>...</td>\n",
       "      <td>...</td>\n",
       "      <td>...</td>\n",
       "      <td>...</td>\n",
       "      <td>...</td>\n",
       "      <td>...</td>\n",
       "      <td>...</td>\n",
       "      <td>...</td>\n",
       "      <td>...</td>\n",
       "      <td>...</td>\n",
       "      <td>...</td>\n",
       "    </tr>\n",
       "    <tr>\n",
       "      <th>9995</th>\n",
       "      <td>771</td>\n",
       "      <td>France</td>\n",
       "      <td>Male</td>\n",
       "      <td>39</td>\n",
       "      <td>5.0</td>\n",
       "      <td>0.00</td>\n",
       "      <td>2</td>\n",
       "      <td>1</td>\n",
       "      <td>0</td>\n",
       "      <td>96270.64</td>\n",
       "      <td>0</td>\n",
       "    </tr>\n",
       "    <tr>\n",
       "      <th>9996</th>\n",
       "      <td>516</td>\n",
       "      <td>France</td>\n",
       "      <td>Male</td>\n",
       "      <td>35</td>\n",
       "      <td>10.0</td>\n",
       "      <td>57369.61</td>\n",
       "      <td>1</td>\n",
       "      <td>1</td>\n",
       "      <td>1</td>\n",
       "      <td>101699.77</td>\n",
       "      <td>0</td>\n",
       "    </tr>\n",
       "    <tr>\n",
       "      <th>9997</th>\n",
       "      <td>709</td>\n",
       "      <td>France</td>\n",
       "      <td>Female</td>\n",
       "      <td>36</td>\n",
       "      <td>7.0</td>\n",
       "      <td>0.00</td>\n",
       "      <td>1</td>\n",
       "      <td>0</td>\n",
       "      <td>1</td>\n",
       "      <td>42085.58</td>\n",
       "      <td>1</td>\n",
       "    </tr>\n",
       "    <tr>\n",
       "      <th>9998</th>\n",
       "      <td>772</td>\n",
       "      <td>Germany</td>\n",
       "      <td>Male</td>\n",
       "      <td>42</td>\n",
       "      <td>3.0</td>\n",
       "      <td>75075.31</td>\n",
       "      <td>2</td>\n",
       "      <td>1</td>\n",
       "      <td>0</td>\n",
       "      <td>92888.52</td>\n",
       "      <td>1</td>\n",
       "    </tr>\n",
       "    <tr>\n",
       "      <th>9999</th>\n",
       "      <td>792</td>\n",
       "      <td>France</td>\n",
       "      <td>Female</td>\n",
       "      <td>28</td>\n",
       "      <td>5.0</td>\n",
       "      <td>130142.79</td>\n",
       "      <td>1</td>\n",
       "      <td>1</td>\n",
       "      <td>0</td>\n",
       "      <td>38190.78</td>\n",
       "      <td>0</td>\n",
       "    </tr>\n",
       "  </tbody>\n",
       "</table>\n",
       "<p>10000 rows × 11 columns</p>\n",
       "</div>"
      ],
      "text/plain": [
       "      CreditScore Geography  Gender  Age  Tenure    Balance  NumOfProducts  \\\n",
       "0             619    France  Female   42     2.0       0.00              1   \n",
       "1             608     Spain  Female   41     1.0   83807.86              1   \n",
       "2             502    France  Female   42     8.0  159660.80              3   \n",
       "3             699    France  Female   39     1.0       0.00              2   \n",
       "4             850     Spain  Female   43     2.0  125510.82              1   \n",
       "...           ...       ...     ...  ...     ...        ...            ...   \n",
       "9995          771    France    Male   39     5.0       0.00              2   \n",
       "9996          516    France    Male   35    10.0   57369.61              1   \n",
       "9997          709    France  Female   36     7.0       0.00              1   \n",
       "9998          772   Germany    Male   42     3.0   75075.31              2   \n",
       "9999          792    France  Female   28     5.0  130142.79              1   \n",
       "\n",
       "      HasCrCard  IsActiveMember  EstimatedSalary  Exited  \n",
       "0             1               1        101348.88       1  \n",
       "1             0               1        112542.58       0  \n",
       "2             1               0        113931.57       1  \n",
       "3             0               0         93826.63       0  \n",
       "4             1               1         79084.10       0  \n",
       "...         ...             ...              ...     ...  \n",
       "9995          1               0         96270.64       0  \n",
       "9996          1               1        101699.77       0  \n",
       "9997          0               1         42085.58       1  \n",
       "9998          1               0         92888.52       1  \n",
       "9999          1               0         38190.78       0  \n",
       "\n",
       "[10000 rows x 11 columns]"
      ]
     },
     "execution_count": 9,
     "metadata": {},
     "output_type": "execute_result"
    }
   ],
   "source": [
    "data = df.drop(['RowNumber', 'CustomerId', 'Surname'], axis=1)\n",
    "data"
   ]
  },
  {
   "cell_type": "markdown",
   "metadata": {},
   "source": [
    "С учетом того, что столбцы `'Geography', 'Gender'` во фрейме данных заполенены нечисловыми значениями, приведем их в понимаемый моделями вид путем прямого кодирования с помощью *get_dummies()*. "
   ]
  },
  {
   "cell_type": "code",
   "execution_count": 11,
   "metadata": {},
   "outputs": [],
   "source": [
    "data_ohe = pd.get_dummies(data, drop_first=True)"
   ]
  },
  {
   "cell_type": "markdown",
   "metadata": {},
   "source": [
    "Давайте взглянем также на то, имеется ли между столбцами нашей базы данных корреляция и на ее степень."
   ]
  },
  {
   "cell_type": "code",
   "execution_count": 12,
   "metadata": {},
   "outputs": [
    {
     "name": "stderr",
     "output_type": "stream",
     "text": [
      "C:\\Users\\user\\AppData\\Local\\Temp\\ipykernel_20424\\1736291848.py:15: FutureWarning: this method is deprecated in favour of `Styler.format(precision=..)`\n",
      "  corr.style.background_gradient(cmap, axis=1)\\\n"
     ]
    },
    {
     "data": {
      "text/html": [
       "<style type=\"text/css\">\n",
       "#T_f20d9 th {\n",
       "  font-size: 7pt;\n",
       "}\n",
       "#T_f20d9 td {\n",
       "  padding: 0em 0em;\n",
       "}\n",
       "#T_f20d9 th:hover {\n",
       "  font-size: 12pt;\n",
       "}\n",
       "#T_f20d9 tr:hover td:hover {\n",
       "  max-width: 200px;\n",
       "  font-size: 12pt;\n",
       "}\n",
       "#T_f20d9_row0_col0, #T_f20d9_row1_col1, #T_f20d9_row2_col2, #T_f20d9_row3_col3, #T_f20d9_row4_col4, #T_f20d9_row5_col5, #T_f20d9_row6_col6, #T_f20d9_row7_col7, #T_f20d9_row8_col8, #T_f20d9_row9_col9, #T_f20d9_row10_col10, #T_f20d9_row11_col11 {\n",
       "  background-color: #4479bb;\n",
       "  color: #f1f1f1;\n",
       "  max-width: 80px;\n",
       "  font-size: 10pt;\n",
       "}\n",
       "#T_f20d9_row0_col1, #T_f20d9_row0_col5, #T_f20d9_row1_col7, #T_f20d9_row2_col3, #T_f20d9_row5_col11, #T_f20d9_row7_col2, #T_f20d9_row7_col8, #T_f20d9_row7_col9 {\n",
       "  background-color: #d84361;\n",
       "  color: #f1f1f1;\n",
       "  max-width: 80px;\n",
       "  font-size: 10pt;\n",
       "}\n",
       "#T_f20d9_row0_col2, #T_f20d9_row0_col7, #T_f20d9_row0_col11, #T_f20d9_row1_col0, #T_f20d9_row2_col9, #T_f20d9_row5_col9, #T_f20d9_row7_col3, #T_f20d9_row7_col4 {\n",
       "  background-color: #d84462;\n",
       "  color: #f1f1f1;\n",
       "  max-width: 80px;\n",
       "  font-size: 10pt;\n",
       "}\n",
       "#T_f20d9_row0_col3, #T_f20d9_row0_col9 {\n",
       "  background-color: #d94764;\n",
       "  color: #f1f1f1;\n",
       "  max-width: 80px;\n",
       "  font-size: 10pt;\n",
       "}\n",
       "#T_f20d9_row0_col4 {\n",
       "  background-color: #d94865;\n",
       "  color: #f1f1f1;\n",
       "  max-width: 80px;\n",
       "  font-size: 10pt;\n",
       "}\n",
       "#T_f20d9_row0_col6 {\n",
       "  background-color: #da4e6a;\n",
       "  color: #f1f1f1;\n",
       "  max-width: 80px;\n",
       "  font-size: 10pt;\n",
       "}\n",
       "#T_f20d9_row0_col8, #T_f20d9_row1_col4, #T_f20d9_row1_col11, #T_f20d9_row2_col6, #T_f20d9_row3_col4, #T_f20d9_row4_col3, #T_f20d9_row5_col1, #T_f20d9_row5_col3, #T_f20d9_row5_col6, #T_f20d9_row5_col10, #T_f20d9_row6_col8, #T_f20d9_row7_col5, #T_f20d9_row7_col6, #T_f20d9_row7_col11, #T_f20d9_row8_col6, #T_f20d9_row9_col10, #T_f20d9_row10_col9, #T_f20d9_row11_col8 {\n",
       "  background-color: #d73c5b;\n",
       "  color: #f1f1f1;\n",
       "  max-width: 80px;\n",
       "  font-size: 10pt;\n",
       "}\n",
       "#T_f20d9_row0_col10, #T_f20d9_row1_col10, #T_f20d9_row2_col0, #T_f20d9_row2_col10 {\n",
       "  background-color: #d94663;\n",
       "  color: #f1f1f1;\n",
       "  max-width: 80px;\n",
       "  font-size: 10pt;\n",
       "}\n",
       "#T_f20d9_row1_col2, #T_f20d9_row1_col5, #T_f20d9_row2_col1, #T_f20d9_row5_col4 {\n",
       "  background-color: #d8415f;\n",
       "  color: #f1f1f1;\n",
       "  max-width: 80px;\n",
       "  font-size: 10pt;\n",
       "}\n",
       "#T_f20d9_row1_col3, #T_f20d9_row2_col5 {\n",
       "  background-color: #da506b;\n",
       "  color: #f1f1f1;\n",
       "  max-width: 80px;\n",
       "  font-size: 10pt;\n",
       "}\n",
       "#T_f20d9_row1_col6, #T_f20d9_row8_col0, #T_f20d9_row11_col10 {\n",
       "  background-color: #dd637c;\n",
       "  color: #f1f1f1;\n",
       "  max-width: 80px;\n",
       "  font-size: 10pt;\n",
       "}\n",
       "#T_f20d9_row1_col8 {\n",
       "  background-color: #e8abb7;\n",
       "  color: #000000;\n",
       "  max-width: 80px;\n",
       "  font-size: 10pt;\n",
       "}\n",
       "#T_f20d9_row1_col9, #T_f20d9_row11_col4 {\n",
       "  background-color: #db5771;\n",
       "  color: #f1f1f1;\n",
       "  max-width: 80px;\n",
       "  font-size: 10pt;\n",
       "}\n",
       "#T_f20d9_row2_col4, #T_f20d9_row2_col7, #T_f20d9_row2_col11, #T_f20d9_row5_col2, #T_f20d9_row8_col11 {\n",
       "  background-color: #d94a67;\n",
       "  color: #f1f1f1;\n",
       "  max-width: 80px;\n",
       "  font-size: 10pt;\n",
       "}\n",
       "#T_f20d9_row2_col8 {\n",
       "  background-color: #d8405e;\n",
       "  color: #f1f1f1;\n",
       "  max-width: 80px;\n",
       "  font-size: 10pt;\n",
       "}\n",
       "#T_f20d9_row3_col0, #T_f20d9_row4_col5, #T_f20d9_row8_col3 {\n",
       "  background-color: #e491a1;\n",
       "  color: #f1f1f1;\n",
       "  max-width: 80px;\n",
       "  font-size: 10pt;\n",
       "}\n",
       "#T_f20d9_row3_col1, #T_f20d9_row9_col5, #T_f20d9_row9_col7, #T_f20d9_row10_col4 {\n",
       "  background-color: #e599a8;\n",
       "  color: #000000;\n",
       "  max-width: 80px;\n",
       "  font-size: 10pt;\n",
       "}\n",
       "#T_f20d9_row3_col2 {\n",
       "  background-color: #e48e9f;\n",
       "  color: #f1f1f1;\n",
       "  max-width: 80px;\n",
       "  font-size: 10pt;\n",
       "}\n",
       "#T_f20d9_row3_col5 {\n",
       "  background-color: #e38b9d;\n",
       "  color: #f1f1f1;\n",
       "  max-width: 80px;\n",
       "  font-size: 10pt;\n",
       "}\n",
       "#T_f20d9_row3_col6, #T_f20d9_row4_col9 {\n",
       "  background-color: #e38d9e;\n",
       "  color: #f1f1f1;\n",
       "  max-width: 80px;\n",
       "  font-size: 10pt;\n",
       "}\n",
       "#T_f20d9_row3_col7, #T_f20d9_row3_col11, #T_f20d9_row4_col0, #T_f20d9_row4_col7, #T_f20d9_row10_col7 {\n",
       "  background-color: #e494a4;\n",
       "  color: #f1f1f1;\n",
       "  max-width: 80px;\n",
       "  font-size: 10pt;\n",
       "}\n",
       "#T_f20d9_row3_col8 {\n",
       "  background-color: #e9b1bc;\n",
       "  color: #000000;\n",
       "  max-width: 80px;\n",
       "  font-size: 10pt;\n",
       "}\n",
       "#T_f20d9_row3_col9 {\n",
       "  background-color: #e3e8ee;\n",
       "  color: #000000;\n",
       "  max-width: 80px;\n",
       "  font-size: 10pt;\n",
       "}\n",
       "#T_f20d9_row3_col10 {\n",
       "  background-color: #de6b82;\n",
       "  color: #f1f1f1;\n",
       "  max-width: 80px;\n",
       "  font-size: 10pt;\n",
       "}\n",
       "#T_f20d9_row4_col1, #T_f20d9_row6_col1, #T_f20d9_row10_col8 {\n",
       "  background-color: #e28799;\n",
       "  color: #f1f1f1;\n",
       "  max-width: 80px;\n",
       "  font-size: 10pt;\n",
       "}\n",
       "#T_f20d9_row4_col2, #T_f20d9_row4_col6, #T_f20d9_row4_col10, #T_f20d9_row9_col4, #T_f20d9_row10_col5 {\n",
       "  background-color: #e492a3;\n",
       "  color: #f1f1f1;\n",
       "  max-width: 80px;\n",
       "  font-size: 10pt;\n",
       "}\n",
       "#T_f20d9_row4_col8 {\n",
       "  background-color: #e28396;\n",
       "  color: #f1f1f1;\n",
       "  max-width: 80px;\n",
       "  font-size: 10pt;\n",
       "}\n",
       "#T_f20d9_row4_col11 {\n",
       "  background-color: #e38a9c;\n",
       "  color: #f1f1f1;\n",
       "  max-width: 80px;\n",
       "  font-size: 10pt;\n",
       "}\n",
       "#T_f20d9_row5_col0, #T_f20d9_row7_col0 {\n",
       "  background-color: #d83e5d;\n",
       "  color: #f1f1f1;\n",
       "  max-width: 80px;\n",
       "  font-size: 10pt;\n",
       "}\n",
       "#T_f20d9_row5_col7, #T_f20d9_row5_col8, #T_f20d9_row7_col1, #T_f20d9_row7_col10 {\n",
       "  background-color: #d73d5c;\n",
       "  color: #f1f1f1;\n",
       "  max-width: 80px;\n",
       "  font-size: 10pt;\n",
       "}\n",
       "#T_f20d9_row6_col0 {\n",
       "  background-color: #e0748a;\n",
       "  color: #f1f1f1;\n",
       "  max-width: 80px;\n",
       "  font-size: 10pt;\n",
       "}\n",
       "#T_f20d9_row6_col2, #T_f20d9_row11_col2, #T_f20d9_row11_col3 {\n",
       "  background-color: #dd627b;\n",
       "  color: #f1f1f1;\n",
       "  max-width: 80px;\n",
       "  font-size: 10pt;\n",
       "}\n",
       "#T_f20d9_row6_col3, #T_f20d9_row6_col7, #T_f20d9_row8_col5 {\n",
       "  background-color: #de6980;\n",
       "  color: #f1f1f1;\n",
       "  max-width: 80px;\n",
       "  font-size: 10pt;\n",
       "}\n",
       "#T_f20d9_row6_col4 {\n",
       "  background-color: #df6f85;\n",
       "  color: #f1f1f1;\n",
       "  max-width: 80px;\n",
       "  font-size: 10pt;\n",
       "}\n",
       "#T_f20d9_row6_col5, #T_f20d9_row8_col2 {\n",
       "  background-color: #de687f;\n",
       "  color: #f1f1f1;\n",
       "  max-width: 80px;\n",
       "  font-size: 10pt;\n",
       "}\n",
       "#T_f20d9_row6_col9 {\n",
       "  background-color: #de667e;\n",
       "  color: #f1f1f1;\n",
       "  max-width: 80px;\n",
       "  font-size: 10pt;\n",
       "}\n",
       "#T_f20d9_row6_col10 {\n",
       "  background-color: #df7288;\n",
       "  color: #f1f1f1;\n",
       "  max-width: 80px;\n",
       "  font-size: 10pt;\n",
       "}\n",
       "#T_f20d9_row6_col11 {\n",
       "  background-color: #e07389;\n",
       "  color: #f1f1f1;\n",
       "  max-width: 80px;\n",
       "  font-size: 10pt;\n",
       "}\n",
       "#T_f20d9_row8_col1, #T_f20d9_row9_col8 {\n",
       "  background-color: #ecc6ce;\n",
       "  color: #000000;\n",
       "  max-width: 80px;\n",
       "  font-size: 10pt;\n",
       "}\n",
       "#T_f20d9_row8_col4, #T_f20d9_row11_col0 {\n",
       "  background-color: #dc5c76;\n",
       "  color: #f1f1f1;\n",
       "  max-width: 80px;\n",
       "  font-size: 10pt;\n",
       "}\n",
       "#T_f20d9_row8_col7, #T_f20d9_row10_col3 {\n",
       "  background-color: #df7086;\n",
       "  color: #f1f1f1;\n",
       "  max-width: 80px;\n",
       "  font-size: 10pt;\n",
       "}\n",
       "#T_f20d9_row8_col9, #T_f20d9_row9_col1 {\n",
       "  background-color: #e7a3b0;\n",
       "  color: #000000;\n",
       "  max-width: 80px;\n",
       "  font-size: 10pt;\n",
       "}\n",
       "#T_f20d9_row8_col10, #T_f20d9_row11_col7 {\n",
       "  background-color: #dc5b75;\n",
       "  color: #f1f1f1;\n",
       "  max-width: 80px;\n",
       "  font-size: 10pt;\n",
       "}\n",
       "#T_f20d9_row9_col0, #T_f20d9_row10_col0 {\n",
       "  background-color: #e597a7;\n",
       "  color: #000000;\n",
       "  max-width: 80px;\n",
       "  font-size: 10pt;\n",
       "}\n",
       "#T_f20d9_row9_col2, #T_f20d9_row10_col1, #T_f20d9_row10_col2 {\n",
       "  background-color: #e595a5;\n",
       "  color: #000000;\n",
       "  max-width: 80px;\n",
       "  font-size: 10pt;\n",
       "}\n",
       "#T_f20d9_row9_col3 {\n",
       "  background-color: #e0e6ed;\n",
       "  color: #000000;\n",
       "  max-width: 80px;\n",
       "  font-size: 10pt;\n",
       "}\n",
       "#T_f20d9_row9_col6, #T_f20d9_row9_col11 {\n",
       "  background-color: #e48fa0;\n",
       "  color: #f1f1f1;\n",
       "  max-width: 80px;\n",
       "  font-size: 10pt;\n",
       "}\n",
       "#T_f20d9_row10_col6, #T_f20d9_row10_col11 {\n",
       "  background-color: #e69caa;\n",
       "  color: #000000;\n",
       "  max-width: 80px;\n",
       "  font-size: 10pt;\n",
       "}\n",
       "#T_f20d9_row11_col1, #T_f20d9_row11_col9 {\n",
       "  background-color: #db5570;\n",
       "  color: #f1f1f1;\n",
       "  max-width: 80px;\n",
       "  font-size: 10pt;\n",
       "}\n",
       "#T_f20d9_row11_col5 {\n",
       "  background-color: #dd5f78;\n",
       "  color: #f1f1f1;\n",
       "  max-width: 80px;\n",
       "  font-size: 10pt;\n",
       "}\n",
       "#T_f20d9_row11_col6 {\n",
       "  background-color: #dd657d;\n",
       "  color: #f1f1f1;\n",
       "  max-width: 80px;\n",
       "  font-size: 10pt;\n",
       "}\n",
       "</style>\n",
       "<table id=\"T_f20d9\">\n",
       "  <caption>Корреляция данных</caption>\n",
       "  <thead>\n",
       "    <tr>\n",
       "      <th class=\"blank level0\" >&nbsp;</th>\n",
       "      <th id=\"T_f20d9_level0_col0\" class=\"col_heading level0 col0\" >CreditScore</th>\n",
       "      <th id=\"T_f20d9_level0_col1\" class=\"col_heading level0 col1\" >Age</th>\n",
       "      <th id=\"T_f20d9_level0_col2\" class=\"col_heading level0 col2\" >Tenure</th>\n",
       "      <th id=\"T_f20d9_level0_col3\" class=\"col_heading level0 col3\" >Balance</th>\n",
       "      <th id=\"T_f20d9_level0_col4\" class=\"col_heading level0 col4\" >NumOfProducts</th>\n",
       "      <th id=\"T_f20d9_level0_col5\" class=\"col_heading level0 col5\" >HasCrCard</th>\n",
       "      <th id=\"T_f20d9_level0_col6\" class=\"col_heading level0 col6\" >IsActiveMember</th>\n",
       "      <th id=\"T_f20d9_level0_col7\" class=\"col_heading level0 col7\" >EstimatedSalary</th>\n",
       "      <th id=\"T_f20d9_level0_col8\" class=\"col_heading level0 col8\" >Exited</th>\n",
       "      <th id=\"T_f20d9_level0_col9\" class=\"col_heading level0 col9\" >Geography_Germany</th>\n",
       "      <th id=\"T_f20d9_level0_col10\" class=\"col_heading level0 col10\" >Geography_Spain</th>\n",
       "      <th id=\"T_f20d9_level0_col11\" class=\"col_heading level0 col11\" >Gender_Male</th>\n",
       "    </tr>\n",
       "  </thead>\n",
       "  <tbody>\n",
       "    <tr>\n",
       "      <th id=\"T_f20d9_level0_row0\" class=\"row_heading level0 row0\" >CreditScore</th>\n",
       "      <td id=\"T_f20d9_row0_col0\" class=\"data row0 col0\" >1.00</td>\n",
       "      <td id=\"T_f20d9_row0_col1\" class=\"data row0 col1\" >-0.00</td>\n",
       "      <td id=\"T_f20d9_row0_col2\" class=\"data row0 col2\" >-0.00</td>\n",
       "      <td id=\"T_f20d9_row0_col3\" class=\"data row0 col3\" >0.01</td>\n",
       "      <td id=\"T_f20d9_row0_col4\" class=\"data row0 col4\" >0.01</td>\n",
       "      <td id=\"T_f20d9_row0_col5\" class=\"data row0 col5\" >-0.01</td>\n",
       "      <td id=\"T_f20d9_row0_col6\" class=\"data row0 col6\" >0.03</td>\n",
       "      <td id=\"T_f20d9_row0_col7\" class=\"data row0 col7\" >-0.00</td>\n",
       "      <td id=\"T_f20d9_row0_col8\" class=\"data row0 col8\" >-0.03</td>\n",
       "      <td id=\"T_f20d9_row0_col9\" class=\"data row0 col9\" >0.01</td>\n",
       "      <td id=\"T_f20d9_row0_col10\" class=\"data row0 col10\" >0.00</td>\n",
       "      <td id=\"T_f20d9_row0_col11\" class=\"data row0 col11\" >-0.00</td>\n",
       "    </tr>\n",
       "    <tr>\n",
       "      <th id=\"T_f20d9_level0_row1\" class=\"row_heading level0 row1\" >Age</th>\n",
       "      <td id=\"T_f20d9_row1_col0\" class=\"data row1 col0\" >-0.00</td>\n",
       "      <td id=\"T_f20d9_row1_col1\" class=\"data row1 col1\" >1.00</td>\n",
       "      <td id=\"T_f20d9_row1_col2\" class=\"data row1 col2\" >-0.01</td>\n",
       "      <td id=\"T_f20d9_row1_col3\" class=\"data row1 col3\" >0.03</td>\n",
       "      <td id=\"T_f20d9_row1_col4\" class=\"data row1 col4\" >-0.03</td>\n",
       "      <td id=\"T_f20d9_row1_col5\" class=\"data row1 col5\" >-0.01</td>\n",
       "      <td id=\"T_f20d9_row1_col6\" class=\"data row1 col6\" >0.09</td>\n",
       "      <td id=\"T_f20d9_row1_col7\" class=\"data row1 col7\" >-0.01</td>\n",
       "      <td id=\"T_f20d9_row1_col8\" class=\"data row1 col8\" >0.29</td>\n",
       "      <td id=\"T_f20d9_row1_col9\" class=\"data row1 col9\" >0.05</td>\n",
       "      <td id=\"T_f20d9_row1_col10\" class=\"data row1 col10\" >-0.00</td>\n",
       "      <td id=\"T_f20d9_row1_col11\" class=\"data row1 col11\" >-0.03</td>\n",
       "    </tr>\n",
       "    <tr>\n",
       "      <th id=\"T_f20d9_level0_row2\" class=\"row_heading level0 row2\" >Tenure</th>\n",
       "      <td id=\"T_f20d9_row2_col0\" class=\"data row2 col0\" >-0.00</td>\n",
       "      <td id=\"T_f20d9_row2_col1\" class=\"data row2 col1\" >-0.01</td>\n",
       "      <td id=\"T_f20d9_row2_col2\" class=\"data row2 col2\" >1.00</td>\n",
       "      <td id=\"T_f20d9_row2_col3\" class=\"data row2 col3\" >-0.01</td>\n",
       "      <td id=\"T_f20d9_row2_col4\" class=\"data row2 col4\" >0.01</td>\n",
       "      <td id=\"T_f20d9_row2_col5\" class=\"data row2 col5\" >0.03</td>\n",
       "      <td id=\"T_f20d9_row2_col6\" class=\"data row2 col6\" >-0.03</td>\n",
       "      <td id=\"T_f20d9_row2_col7\" class=\"data row2 col7\" >0.01</td>\n",
       "      <td id=\"T_f20d9_row2_col8\" class=\"data row2 col8\" >-0.02</td>\n",
       "      <td id=\"T_f20d9_row2_col9\" class=\"data row2 col9\" >-0.00</td>\n",
       "      <td id=\"T_f20d9_row2_col10\" class=\"data row2 col10\" >0.00</td>\n",
       "      <td id=\"T_f20d9_row2_col11\" class=\"data row2 col11\" >0.01</td>\n",
       "    </tr>\n",
       "    <tr>\n",
       "      <th id=\"T_f20d9_level0_row3\" class=\"row_heading level0 row3\" >Balance</th>\n",
       "      <td id=\"T_f20d9_row3_col0\" class=\"data row3 col0\" >0.01</td>\n",
       "      <td id=\"T_f20d9_row3_col1\" class=\"data row3 col1\" >0.03</td>\n",
       "      <td id=\"T_f20d9_row3_col2\" class=\"data row3 col2\" >-0.01</td>\n",
       "      <td id=\"T_f20d9_row3_col3\" class=\"data row3 col3\" >1.00</td>\n",
       "      <td id=\"T_f20d9_row3_col4\" class=\"data row3 col4\" >-0.30</td>\n",
       "      <td id=\"T_f20d9_row3_col5\" class=\"data row3 col5\" >-0.01</td>\n",
       "      <td id=\"T_f20d9_row3_col6\" class=\"data row3 col6\" >-0.01</td>\n",
       "      <td id=\"T_f20d9_row3_col7\" class=\"data row3 col7\" >0.01</td>\n",
       "      <td id=\"T_f20d9_row3_col8\" class=\"data row3 col8\" >0.12</td>\n",
       "      <td id=\"T_f20d9_row3_col9\" class=\"data row3 col9\" >0.40</td>\n",
       "      <td id=\"T_f20d9_row3_col10\" class=\"data row3 col10\" >-0.13</td>\n",
       "      <td id=\"T_f20d9_row3_col11\" class=\"data row3 col11\" >0.01</td>\n",
       "    </tr>\n",
       "    <tr>\n",
       "      <th id=\"T_f20d9_level0_row4\" class=\"row_heading level0 row4\" >NumOfProducts</th>\n",
       "      <td id=\"T_f20d9_row4_col0\" class=\"data row4 col0\" >0.01</td>\n",
       "      <td id=\"T_f20d9_row4_col1\" class=\"data row4 col1\" >-0.03</td>\n",
       "      <td id=\"T_f20d9_row4_col2\" class=\"data row4 col2\" >0.01</td>\n",
       "      <td id=\"T_f20d9_row4_col3\" class=\"data row4 col3\" >-0.30</td>\n",
       "      <td id=\"T_f20d9_row4_col4\" class=\"data row4 col4\" >1.00</td>\n",
       "      <td id=\"T_f20d9_row4_col5\" class=\"data row4 col5\" >0.00</td>\n",
       "      <td id=\"T_f20d9_row4_col6\" class=\"data row4 col6\" >0.01</td>\n",
       "      <td id=\"T_f20d9_row4_col7\" class=\"data row4 col7\" >0.01</td>\n",
       "      <td id=\"T_f20d9_row4_col8\" class=\"data row4 col8\" >-0.05</td>\n",
       "      <td id=\"T_f20d9_row4_col9\" class=\"data row4 col9\" >-0.01</td>\n",
       "      <td id=\"T_f20d9_row4_col10\" class=\"data row4 col10\" >0.01</td>\n",
       "      <td id=\"T_f20d9_row4_col11\" class=\"data row4 col11\" >-0.02</td>\n",
       "    </tr>\n",
       "    <tr>\n",
       "      <th id=\"T_f20d9_level0_row5\" class=\"row_heading level0 row5\" >HasCrCard</th>\n",
       "      <td id=\"T_f20d9_row5_col0\" class=\"data row5 col0\" >-0.01</td>\n",
       "      <td id=\"T_f20d9_row5_col1\" class=\"data row5 col1\" >-0.01</td>\n",
       "      <td id=\"T_f20d9_row5_col2\" class=\"data row5 col2\" >0.03</td>\n",
       "      <td id=\"T_f20d9_row5_col3\" class=\"data row5 col3\" >-0.01</td>\n",
       "      <td id=\"T_f20d9_row5_col4\" class=\"data row5 col4\" >0.00</td>\n",
       "      <td id=\"T_f20d9_row5_col5\" class=\"data row5 col5\" >1.00</td>\n",
       "      <td id=\"T_f20d9_row5_col6\" class=\"data row5 col6\" >-0.01</td>\n",
       "      <td id=\"T_f20d9_row5_col7\" class=\"data row5 col7\" >-0.01</td>\n",
       "      <td id=\"T_f20d9_row5_col8\" class=\"data row5 col8\" >-0.01</td>\n",
       "      <td id=\"T_f20d9_row5_col9\" class=\"data row5 col9\" >0.01</td>\n",
       "      <td id=\"T_f20d9_row5_col10\" class=\"data row5 col10\" >-0.01</td>\n",
       "      <td id=\"T_f20d9_row5_col11\" class=\"data row5 col11\" >0.01</td>\n",
       "    </tr>\n",
       "    <tr>\n",
       "      <th id=\"T_f20d9_level0_row6\" class=\"row_heading level0 row6\" >IsActiveMember</th>\n",
       "      <td id=\"T_f20d9_row6_col0\" class=\"data row6 col0\" >0.03</td>\n",
       "      <td id=\"T_f20d9_row6_col1\" class=\"data row6 col1\" >0.09</td>\n",
       "      <td id=\"T_f20d9_row6_col2\" class=\"data row6 col2\" >-0.03</td>\n",
       "      <td id=\"T_f20d9_row6_col3\" class=\"data row6 col3\" >-0.01</td>\n",
       "      <td id=\"T_f20d9_row6_col4\" class=\"data row6 col4\" >0.01</td>\n",
       "      <td id=\"T_f20d9_row6_col5\" class=\"data row6 col5\" >-0.01</td>\n",
       "      <td id=\"T_f20d9_row6_col6\" class=\"data row6 col6\" >1.00</td>\n",
       "      <td id=\"T_f20d9_row6_col7\" class=\"data row6 col7\" >-0.01</td>\n",
       "      <td id=\"T_f20d9_row6_col8\" class=\"data row6 col8\" >-0.16</td>\n",
       "      <td id=\"T_f20d9_row6_col9\" class=\"data row6 col9\" >-0.02</td>\n",
       "      <td id=\"T_f20d9_row6_col10\" class=\"data row6 col10\" >0.02</td>\n",
       "      <td id=\"T_f20d9_row6_col11\" class=\"data row6 col11\" >0.02</td>\n",
       "    </tr>\n",
       "    <tr>\n",
       "      <th id=\"T_f20d9_level0_row7\" class=\"row_heading level0 row7\" >EstimatedSalary</th>\n",
       "      <td id=\"T_f20d9_row7_col0\" class=\"data row7 col0\" >-0.00</td>\n",
       "      <td id=\"T_f20d9_row7_col1\" class=\"data row7 col1\" >-0.01</td>\n",
       "      <td id=\"T_f20d9_row7_col2\" class=\"data row7 col2\" >0.01</td>\n",
       "      <td id=\"T_f20d9_row7_col3\" class=\"data row7 col3\" >0.01</td>\n",
       "      <td id=\"T_f20d9_row7_col4\" class=\"data row7 col4\" >0.01</td>\n",
       "      <td id=\"T_f20d9_row7_col5\" class=\"data row7 col5\" >-0.01</td>\n",
       "      <td id=\"T_f20d9_row7_col6\" class=\"data row7 col6\" >-0.01</td>\n",
       "      <td id=\"T_f20d9_row7_col7\" class=\"data row7 col7\" >1.00</td>\n",
       "      <td id=\"T_f20d9_row7_col8\" class=\"data row7 col8\" >0.01</td>\n",
       "      <td id=\"T_f20d9_row7_col9\" class=\"data row7 col9\" >0.01</td>\n",
       "      <td id=\"T_f20d9_row7_col10\" class=\"data row7 col10\" >-0.01</td>\n",
       "      <td id=\"T_f20d9_row7_col11\" class=\"data row7 col11\" >-0.01</td>\n",
       "    </tr>\n",
       "    <tr>\n",
       "      <th id=\"T_f20d9_level0_row8\" class=\"row_heading level0 row8\" >Exited</th>\n",
       "      <td id=\"T_f20d9_row8_col0\" class=\"data row8 col0\" >-0.03</td>\n",
       "      <td id=\"T_f20d9_row8_col1\" class=\"data row8 col1\" >0.29</td>\n",
       "      <td id=\"T_f20d9_row8_col2\" class=\"data row8 col2\" >-0.02</td>\n",
       "      <td id=\"T_f20d9_row8_col3\" class=\"data row8 col3\" >0.12</td>\n",
       "      <td id=\"T_f20d9_row8_col4\" class=\"data row8 col4\" >-0.05</td>\n",
       "      <td id=\"T_f20d9_row8_col5\" class=\"data row8 col5\" >-0.01</td>\n",
       "      <td id=\"T_f20d9_row8_col6\" class=\"data row8 col6\" >-0.16</td>\n",
       "      <td id=\"T_f20d9_row8_col7\" class=\"data row8 col7\" >0.01</td>\n",
       "      <td id=\"T_f20d9_row8_col8\" class=\"data row8 col8\" >1.00</td>\n",
       "      <td id=\"T_f20d9_row8_col9\" class=\"data row8 col9\" >0.17</td>\n",
       "      <td id=\"T_f20d9_row8_col10\" class=\"data row8 col10\" >-0.05</td>\n",
       "      <td id=\"T_f20d9_row8_col11\" class=\"data row8 col11\" >-0.11</td>\n",
       "    </tr>\n",
       "    <tr>\n",
       "      <th id=\"T_f20d9_level0_row9\" class=\"row_heading level0 row9\" >Geography_Germany</th>\n",
       "      <td id=\"T_f20d9_row9_col0\" class=\"data row9 col0\" >0.01</td>\n",
       "      <td id=\"T_f20d9_row9_col1\" class=\"data row9 col1\" >0.05</td>\n",
       "      <td id=\"T_f20d9_row9_col2\" class=\"data row9 col2\" >-0.00</td>\n",
       "      <td id=\"T_f20d9_row9_col3\" class=\"data row9 col3\" >0.40</td>\n",
       "      <td id=\"T_f20d9_row9_col4\" class=\"data row9 col4\" >-0.01</td>\n",
       "      <td id=\"T_f20d9_row9_col5\" class=\"data row9 col5\" >0.01</td>\n",
       "      <td id=\"T_f20d9_row9_col6\" class=\"data row9 col6\" >-0.02</td>\n",
       "      <td id=\"T_f20d9_row9_col7\" class=\"data row9 col7\" >0.01</td>\n",
       "      <td id=\"T_f20d9_row9_col8\" class=\"data row9 col8\" >0.17</td>\n",
       "      <td id=\"T_f20d9_row9_col9\" class=\"data row9 col9\" >1.00</td>\n",
       "      <td id=\"T_f20d9_row9_col10\" class=\"data row9 col10\" >-0.33</td>\n",
       "      <td id=\"T_f20d9_row9_col11\" class=\"data row9 col11\" >-0.02</td>\n",
       "    </tr>\n",
       "    <tr>\n",
       "      <th id=\"T_f20d9_level0_row10\" class=\"row_heading level0 row10\" >Geography_Spain</th>\n",
       "      <td id=\"T_f20d9_row10_col0\" class=\"data row10 col0\" >0.00</td>\n",
       "      <td id=\"T_f20d9_row10_col1\" class=\"data row10 col1\" >-0.00</td>\n",
       "      <td id=\"T_f20d9_row10_col2\" class=\"data row10 col2\" >0.00</td>\n",
       "      <td id=\"T_f20d9_row10_col3\" class=\"data row10 col3\" >-0.13</td>\n",
       "      <td id=\"T_f20d9_row10_col4\" class=\"data row10 col4\" >0.01</td>\n",
       "      <td id=\"T_f20d9_row10_col5\" class=\"data row10 col5\" >-0.01</td>\n",
       "      <td id=\"T_f20d9_row10_col6\" class=\"data row10 col6\" >0.02</td>\n",
       "      <td id=\"T_f20d9_row10_col7\" class=\"data row10 col7\" >-0.01</td>\n",
       "      <td id=\"T_f20d9_row10_col8\" class=\"data row10 col8\" >-0.05</td>\n",
       "      <td id=\"T_f20d9_row10_col9\" class=\"data row10 col9\" >-0.33</td>\n",
       "      <td id=\"T_f20d9_row10_col10\" class=\"data row10 col10\" >1.00</td>\n",
       "      <td id=\"T_f20d9_row10_col11\" class=\"data row10 col11\" >0.02</td>\n",
       "    </tr>\n",
       "    <tr>\n",
       "      <th id=\"T_f20d9_level0_row11\" class=\"row_heading level0 row11\" >Gender_Male</th>\n",
       "      <td id=\"T_f20d9_row11_col0\" class=\"data row11 col0\" >-0.00</td>\n",
       "      <td id=\"T_f20d9_row11_col1\" class=\"data row11 col1\" >-0.03</td>\n",
       "      <td id=\"T_f20d9_row11_col2\" class=\"data row11 col2\" >0.01</td>\n",
       "      <td id=\"T_f20d9_row11_col3\" class=\"data row11 col3\" >0.01</td>\n",
       "      <td id=\"T_f20d9_row11_col4\" class=\"data row11 col4\" >-0.02</td>\n",
       "      <td id=\"T_f20d9_row11_col5\" class=\"data row11 col5\" >0.01</td>\n",
       "      <td id=\"T_f20d9_row11_col6\" class=\"data row11 col6\" >0.02</td>\n",
       "      <td id=\"T_f20d9_row11_col7\" class=\"data row11 col7\" >-0.01</td>\n",
       "      <td id=\"T_f20d9_row11_col8\" class=\"data row11 col8\" >-0.11</td>\n",
       "      <td id=\"T_f20d9_row11_col9\" class=\"data row11 col9\" >-0.02</td>\n",
       "      <td id=\"T_f20d9_row11_col10\" class=\"data row11 col10\" >0.02</td>\n",
       "      <td id=\"T_f20d9_row11_col11\" class=\"data row11 col11\" >1.00</td>\n",
       "    </tr>\n",
       "  </tbody>\n",
       "</table>\n"
      ],
      "text/plain": [
       "<pandas.io.formats.style.Styler at 0x1a549ca5850>"
      ]
     },
     "execution_count": 12,
     "metadata": {},
     "output_type": "execute_result"
    }
   ],
   "source": [
    "cmap = cmap=sns.diverging_palette(5, 250, as_cmap=True)\n",
    "corr = data_ohe.corr()\n",
    "def magnify():\n",
    "    return [dict(selector=\"th\",\n",
    "                 props=[(\"font-size\", \"7pt\")]),\n",
    "            dict(selector=\"td\",\n",
    "                 props=[('padding', \"0em 0em\")]),\n",
    "            dict(selector=\"th:hover\",\n",
    "                 props=[(\"font-size\", \"12pt\")]),\n",
    "            dict(selector=\"tr:hover td:hover\",\n",
    "                 props=[('max-width', '200px'),\n",
    "                        ('font-size', '12pt')])\n",
    "]\n",
    "\n",
    "corr.style.background_gradient(cmap, axis=1)\\\n",
    "    .set_properties(**{'max-width': '80px', 'font-size': '10pt'})\\\n",
    "    .set_caption(\"Корреляция данных\")\\\n",
    "    .set_precision(2)\\\n",
    "    .set_table_styles(magnify())"
   ]
  },
  {
   "cell_type": "code",
   "execution_count": 13,
   "metadata": {},
   "outputs": [
    {
     "data": {
      "image/png": "[encoded data removed]",
      "text/plain": [
       "<Figure size 640x480 with 2 Axes>"
      ]
     },
     "metadata": {},
     "output_type": "display_data"
    }
   ],
   "source": [
    "sns.heatmap(corr, xticklabels=corr.columns, yticklabels=corr.columns);"
   ]
  },
  {
   "cell_type": "markdown",
   "metadata": {},
   "source": [
    "Как мы видим, у целевого признака нашего датафрейма имеется некоторая корреляция со столбцами `'Age', 'Gender', 'Balance', 'IsActiveMember'`, но она не такая большая. Далее разделим базу данных на две таблицы: с признаками и целевым признаком."
   ]
  },
  {
   "cell_type": "code",
   "execution_count": 14,
   "metadata": {},
   "outputs": [],
   "source": [
    "target = data_ohe['Exited']\n",
    "features = data_ohe.drop('Exited', axis=1)"
   ]
  },
  {
   "cell_type": "markdown",
   "metadata": {},
   "source": [
    "Также разделим наши таблицы на обучающу, валидационную и тестовую выборки, используя стратификацию. При этом в целях возможности адекватной поверки проекта, закрепим псевдослучайность для наших алгоритмов, выбрав параметр `random_state` как *3301*."
   ]
  },
  {
   "cell_type": "code",
   "execution_count": 15,
   "metadata": {},
   "outputs": [],
   "source": [
    "features_tmp, features_test, target_tmp, target_test = train_test_split(features, target, test_size=0.20, random_state=3301)\n",
    "features_train, features_valid, target_train, target_valid = train_test_split(features_tmp, target_tmp, test_size=0.25, \n",
    "                                                                              random_state=3301)"
   ]
  },
  {
   "cell_type": "code",
   "execution_count": 16,
   "metadata": {},
   "outputs": [
    {
     "name": "stdout",
     "output_type": "stream",
     "text": [
      "Обучащая выборка: количество целевого признака \"1\": 1200 ; среднее целевого признака: 0.2\n",
      "Валидационная выборка: количество целевого признака \"1\": 444 ; среднее целевого признака: 0.222\n",
      "Тествая выборка: количество целевого признака \"1\": 393 ; среднее целевого признака: 0.1965\n"
     ]
    }
   ],
   "source": [
    "print('Обучащая выборка: количество целевого признака \"1\":', target_train[target_train==1].sum(), \n",
    "      '; среднее целевого признака:', target_train.mean())\n",
    "print('Валидационная выборка: количество целевого признака \"1\":', target_valid[target_valid==1].sum(), \n",
    "      '; среднее целевого признака:', target_valid.mean())\n",
    "print('Тествая выборка: количество целевого признака \"1\":', target_test[target_test==1].sum(), \n",
    "      '; среднее целевого признака:', target_test.mean())"
   ]
  },
  {
   "cell_type": "markdown",
   "metadata": {},
   "source": [
    "Кроме того, у нас имеется ряд значений в разичных стобцах, которые существенно отличаются по своим значениям, что может негативно отразиться на обучении модели в связи с чем проведем масштабирование признаков, используя структуру для стандартизации данных *StandardScaler*, настроив ее на обучающей выборке и затем преобразовав данные признаков. "
   ]
  },
  {
   "cell_type": "code",
   "execution_count": 17,
   "metadata": {},
   "outputs": [],
   "source": [
    "num = ['CreditScore', 'Age', 'Tenure', 'Balance', 'EstimatedSalary']\n",
    "scaler = StandardScaler()\n",
    "scaler.fit(features_train[num])\n",
    "features_train[num] = scaler.transform(features_train[num])\n",
    "features_valid[num] = scaler.transform(features_valid[num])\n",
    "features_test[num] = scaler.transform(features_test[num])"
   ]
  },
  {
   "cell_type": "markdown",
   "metadata": {},
   "source": [
    "**Вывод:** Как мы видим, у нас имеется база данных, содержащая сведения о 10000 случаях, в которых имееются сведения о клиентах банка, их кредитном рейтинге, стране проживания, поле, возрасте, времени сотрудничества с банком, балансе, колчестве используемых продуктов банка, наличии кредитной карты, актвивности клиента и его предполагаемой заработной плате (признаки) и данные об уходе (либо нет) клиента из банка (целевой признак). В тоже время следует заметить, что данные неравномерны, а разделены в соотношении примерно 1 к 4, поскольку уход из банка имел место у примерно 20% клиентов."
   ]
  },
  {
   "cell_type": "markdown",
   "metadata": {},
   "source": [
    "## Исследование задачи"
   ]
  },
  {
   "cell_type": "markdown",
   "metadata": {},
   "source": [
    "Теперь давайте взглянем, каким образом будут обучатся наши модели на имеющихся данных. В качестве моделей используем логистическую регрессию, а также различные варианты дерева решений (предлагаю взять варианты с глубиной от **1** до **15**) и случайного леса (в данном случае добавим варианты количества деревьев от 2 до 50, которые будем исследовать с шагом в 3). При этом пока не будем учитывать несбалансированность данных. В качестве метрики оценки моделей используем F1-метрику."
   ]
  },
  {
   "cell_type": "code",
   "execution_count": 18,
   "metadata": {},
   "outputs": [
    {
     "name": "stdout",
     "output_type": "stream",
     "text": [
      "F1 модели логической регрессии на валидационной выборке: 0.2753872633390706\n"
     ]
    }
   ],
   "source": [
    "model_logistic = LogisticRegression(random_state=3301, solver='liblinear', max_iter=100)\n",
    "\n",
    "model_logistic.fit(features_train, target_train) \n",
    "logistic_pred = model_logistic.predict(features_valid)\n",
    "result_logistic = f1_score(target_valid, logistic_pred) \n",
    "\n",
    "print(\"F1 модели логической регрессии на валидационной выборке:\", result_logistic)"
   ]
  },
  {
   "cell_type": "markdown",
   "metadata": {},
   "source": [
    "Как видно, результат **0,27** является крайне посредственным. Посмотрим, как будет справляться дерево решений."
   ]
  },
  {
   "cell_type": "code",
   "execution_count": 19,
   "metadata": {
    "scrolled": true
   },
   "outputs": [
    {
     "name": "stderr",
     "output_type": "stream",
     "text": [
      "100%|██████████| 15/15 [00:00<00:00, 46.71it/s]"
     ]
    },
    {
     "name": "stdout",
     "output_type": "stream",
     "text": [
      "F1 наилучшей модели на валидационной выборке: 0.5682137834036567 Глубина дерева: 8\n"
     ]
    },
    {
     "name": "stderr",
     "output_type": "stream",
     "text": [
      "\n"
     ]
    },
    {
     "data": {
      "image/png": "[encoded data removed]",
      "text/plain": [
       "<Figure size 640x480 with 1 Axes>"
      ]
     },
     "metadata": {},
     "output_type": "display_data"
    }
   ],
   "source": [
    "best_model_tree = None\n",
    "best_result_tree = 0\n",
    "best_depth_tree = 0\n",
    "linegraf = []\n",
    "indexgraf = []\n",
    "\n",
    "for depth in tqdm(range(1, 16)):\n",
    "    model_tree = DecisionTreeClassifier(random_state=3301, max_depth=depth)\n",
    "    \n",
    "    model_tree.fit(features_train, target_train) \n",
    "    tree_pred = model_tree.predict(features_valid) \n",
    "    \n",
    "    result = f1_score(target_valid, tree_pred) \n",
    "    \n",
    "    if result > best_result_tree:\n",
    "        best_model_tree = model_tree\n",
    "        best_result_tree = result\n",
    "        best_depth_tree = depth\n",
    "    linegraf.append(result) \n",
    "    indexgraf.append(depth)\n",
    "\n",
    "line = pd.Series(linegraf, index=indexgraf)\n",
    "\n",
    "print(\"F1 наилучшей модели на валидационной выборке:\", best_result_tree, \"Глубина дерева:\", best_depth_tree)\n",
    "line.plot(title='Уровень F1 в зависимости от глубины дерева', xlabel='Глубина дерева', ylabel='F1');"
   ]
  },
  {
   "cell_type": "markdown",
   "metadata": {},
   "source": [
    "Дерево решений показало уже более лучший результат с F1-метрикой около **0,57** при глубине дерева **8**. Теперь посмотрим как будут обучаться модели случайного леса."
   ]
  },
  {
   "cell_type": "code",
   "execution_count": 20,
   "metadata": {},
   "outputs": [
    {
     "name": "stderr",
     "output_type": "stream",
     "text": [
      "100%|██████████| 17/17 [00:33<00:00,  1.99s/it]"
     ]
    },
    {
     "name": "stdout",
     "output_type": "stream",
     "text": [
      "F1 наилучшей модели на валидационной выборке: 0.5818181818181818 Количество деревьев: 35 Максимальная глубина: 15\n"
     ]
    },
    {
     "name": "stderr",
     "output_type": "stream",
     "text": [
      "\n"
     ]
    }
   ],
   "source": [
    "best_model_forest = None\n",
    "best_result_forest = 0\n",
    "best_est_forest = 0\n",
    "best_depth_forest = 0\n",
    "\n",
    "for est in tqdm(range(2, 51, 3)):\n",
    "    for depth in range (1, 16):\n",
    "        model_forest = RandomForestClassifier(random_state=3301, criterion='gini', n_estimators=est, max_depth=depth)\n",
    "        \n",
    "        model_forest.fit(features_train, target_train) \n",
    "        forest_pred = model_forest.predict(features_valid) \n",
    "    \n",
    "        result = f1_score(target_valid, forest_pred)\n",
    "        \n",
    "        if result > best_result_forest:\n",
    "            best_model_forest = model_forest\n",
    "            best_result_forest = result\n",
    "            best_est_forest = est\n",
    "            best_depth_forest = depth\n",
    "        \n",
    "print(\"F1 наилучшей модели на валидационной выборке:\", best_result_forest, \"Количество деревьев:\", \n",
    "      best_est_forest, \"Максимальная глубина:\", best_depth_forest)"
   ]
  },
  {
   "cell_type": "markdown",
   "metadata": {},
   "source": [
    "Как видим, модель случайнго леса с количеством деревьев **35** и глубиной **15** показала наилучший результат с F1-метрикой около **0,58**."
   ]
  },
  {
   "cell_type": "markdown",
   "metadata": {},
   "source": [
    "**Вывод:** Наилучшим образом, проявила себя модель случайнго леса с количеством деревьев **35** и глубиной **15**, которая дала наилучший результат с F1-метрикой около **0,58**. В то же время, полагаем, что калибровка моделей с учетом несбалансированности целевого признака позволит улучшить этот показатель. Возможно данной модели и могло бы хватить для достижения цели, но проверка на тестовой выборке может дать и несколько худшие результаты. "
   ]
  },
  {
   "cell_type": "markdown",
   "metadata": {},
   "source": [
    "## Борьба с дисбалансом"
   ]
  },
  {
   "cell_type": "markdown",
   "metadata": {},
   "source": [
    "С учетом наличия дисбаланса в целевом признаке, предлагаю адаптировать к этому модели при обучении, используя взвешивания класса, а также путем увеличения и уменьшения выборки. Начнем с придания количественно меньшему признаку большего веса путем использования аргумента *'balanced'* в параметре *class_weight*.  "
   ]
  },
  {
   "cell_type": "code",
   "execution_count": 21,
   "metadata": {},
   "outputs": [
    {
     "name": "stdout",
     "output_type": "stream",
     "text": [
      "F1-метрика на валидационной выборке: 0.5172124265323258\n"
     ]
    }
   ],
   "source": [
    "model = LogisticRegression(random_state=3301, solver='liblinear', class_weight='balanced')\n",
    "model.fit(features_train, target_train)\n",
    "predicted_valid = model.predict(features_valid)\n",
    "print(\"F1-метрика на валидационной выборке:\", f1_score(target_valid, predicted_valid))"
   ]
  },
  {
   "cell_type": "markdown",
   "metadata": {},
   "source": [
    "Как мы видим, F1-метрика модели логистической регрессии значительно улучшилась, но всё же не сответствует поставленной цели."
   ]
  },
  {
   "cell_type": "code",
   "execution_count": 22,
   "metadata": {},
   "outputs": [
    {
     "name": "stdout",
     "output_type": "stream",
     "text": [
      "F1 наилучшей модели на валидационной выборке: 0.587819947043248 Глубина дерева: 5\n"
     ]
    },
    {
     "data": {
      "image/png": "[encoded data removed]",
      "text/plain": [
       "<Figure size 640x480 with 1 Axes>"
      ]
     },
     "metadata": {},
     "output_type": "display_data"
    }
   ],
   "source": [
    "best_model_tree = None\n",
    "best_result_tree = 0\n",
    "best_depth_tree = 0\n",
    "best_result_train = 0\n",
    "linegraf = []\n",
    "indexgraf = []\n",
    "\n",
    "for depth in range(1, 16):\n",
    "    model_tree = DecisionTreeClassifier(random_state=3301, max_depth=depth, class_weight='balanced')\n",
    "    \n",
    "    model_tree.fit(features_train, target_train) \n",
    "    tree_pred = model_tree.predict(features_valid) \n",
    "    \n",
    "    result = f1_score(target_valid, tree_pred) \n",
    "    \n",
    "    if result > best_result_tree:\n",
    "        best_model_tree = model_tree\n",
    "        best_result_tree = result\n",
    "        best_depth_tree = depth\n",
    "    linegraf.append(result) \n",
    "    indexgraf.append(depth)\n",
    "\n",
    "line = pd.Series(linegraf, index=indexgraf)\n",
    "\n",
    "print('F1 наилучшей модели на валидационной выборке:', best_result_tree, 'Глубина дерева:', best_depth_tree)\n",
    "line.plot(title='Уровень F1 в зависимости от глубины дерева', xlabel='Глубина дерева', ylabel='F1');"
   ]
  },
  {
   "cell_type": "markdown",
   "metadata": {},
   "source": [
    "Такой вариант на модели решающего дерева практически не отразился на F1-метрике, однако, глубина уменьшилась."
   ]
  },
  {
   "cell_type": "code",
   "execution_count": 23,
   "metadata": {},
   "outputs": [
    {
     "name": "stderr",
     "output_type": "stream",
     "text": [
      "100%|██████████| 17/17 [00:33<00:00,  1.96s/it]"
     ]
    },
    {
     "name": "stdout",
     "output_type": "stream",
     "text": [
      "F1 наилучшей модели на валидационной выборке: 0.642051282051282 Количество деревьев: 47 Максимальная глубина: 8\n"
     ]
    },
    {
     "name": "stderr",
     "output_type": "stream",
     "text": [
      "\n"
     ]
    }
   ],
   "source": [
    "best_model_forest = None\n",
    "best_result_forest = 0\n",
    "best_est_forest = 0\n",
    "best_depth_forest = 0\n",
    "\n",
    "for est in tqdm(range(2, 51, 3)):\n",
    "    for depth in range (1, 16):\n",
    "        model_forest = RandomForestClassifier(random_state=3301, criterion='gini', n_estimators=est, max_depth=depth, class_weight='balanced')\n",
    "        \n",
    "        model_forest.fit(features_train, target_train) \n",
    "        forest_pred = model_forest.predict(features_valid) \n",
    "    \n",
    "        result = f1_score(target_valid, forest_pred)\n",
    "        \n",
    "        if result > best_result_forest:\n",
    "            best_model_forest = model_forest\n",
    "            best_result_forest = result\n",
    "\n",
    "            best_est_forest = est\n",
    "            best_depth_forest = depth\n",
    "        \n",
    "\n",
    "print(\"F1 наилучшей модели на валидационной выборке:\", best_result_forest,\n",
    "      \"Количество деревьев:\", best_est_forest, \"Максимальная глубина:\", best_depth_forest)"
   ]
  },
  {
   "cell_type": "markdown",
   "metadata": {},
   "source": [
    "Как видим, модель случайного леса с количеством деревьев **47** и глубиной **8**, показала еще более лучший результат, увеличив F1-метрику до чуть более **0,64**.\n",
    "\n",
    "Далее попробуем решить проблему дисбаланса классов с помощью увеличения выборки техникой *upsampling*."
   ]
  },
  {
   "cell_type": "code",
   "execution_count": 24,
   "metadata": {},
   "outputs": [],
   "source": [
    "def upsample(features, target, repeat):\n",
    "    features_zeros = features[target == 0]\n",
    "    features_ones = features[target == 1]\n",
    "    target_zeros = target[target == 0]\n",
    "    target_ones = target[target == 1]\n",
    "\n",
    "    features_upsampled = pd.concat([features_zeros] + [features_ones] * repeat)\n",
    "    target_upsampled = pd.concat([target_zeros] + [target_ones] * repeat)\n",
    "    \n",
    "    features_upsampled, target_upsampled = shuffle(features_upsampled, target_upsampled, random_state=3301)\n",
    "    \n",
    "    return features_upsampled, target_upsampled\n",
    "\n",
    "features_upsampled, target_upsampled = upsample(features_train, target_train, 4)"
   ]
  },
  {
   "cell_type": "code",
   "execution_count": 25,
   "metadata": {},
   "outputs": [
    {
     "name": "stdout",
     "output_type": "stream",
     "text": [
      "F1 на валидационной выборке: 0.5172124265323258\n"
     ]
    }
   ],
   "source": [
    "model = LogisticRegression(random_state=3301, solver='liblinear')\n",
    "model.fit(features_upsampled, target_upsampled)\n",
    "predicted_valid = model.predict(features_valid)\n",
    "print(\"F1 на валидационной выборке:\", f1_score(target_valid, predicted_valid))"
   ]
  },
  {
   "cell_type": "markdown",
   "metadata": {},
   "source": [
    "Как видим, на значениях F1-метрики логистической регрессии этот вариант практически не сказался."
   ]
  },
  {
   "cell_type": "code",
   "execution_count": 26,
   "metadata": {},
   "outputs": [
    {
     "name": "stdout",
     "output_type": "stream",
     "text": [
      "F1 наилучшей модели на валидационной выборке: 0.587819947043248 Глубина дерева: 5\n"
     ]
    },
    {
     "data": {
      "image/png": "[encoded data removed]",
      "text/plain": [
       "<Figure size 640x480 with 1 Axes>"
      ]
     },
     "metadata": {},
     "output_type": "display_data"
    }
   ],
   "source": [
    "best_model_tree = None\n",
    "best_result_tree = 0\n",
    "best_depth_tree = 0\n",
    "linegraf = []\n",
    "indexgraf = []\n",
    "\n",
    "for depth in range(1, 16):\n",
    "    model_tree = DecisionTreeClassifier(random_state=3301, max_depth=depth)\n",
    "    \n",
    "    model_tree.fit(features_upsampled, target_upsampled) \n",
    "    tree_pred = model_tree.predict(features_valid) \n",
    "    \n",
    "    result = f1_score(target_valid, tree_pred) \n",
    "    \n",
    "    if result > best_result_tree:\n",
    "        best_model_tree = model_tree\n",
    "        best_result_tree = result\n",
    "        best_depth_tree = depth\n",
    "    linegraf.append(result) \n",
    "    indexgraf.append(depth)\n",
    "\n",
    "line = pd.Series(linegraf, index=indexgraf)\n",
    "\n",
    "print('F1 наилучшей модели на валидационной выборке:', best_result_tree, 'Глубина дерева:', best_depth_tree)\n",
    "line.plot(title='Уровень F1 в зависимости от глубины дерева', xlabel='Глубина дерева', ylabel='F1');"
   ]
  },
  {
   "cell_type": "markdown",
   "metadata": {},
   "source": [
    "Данный вариант также практически не изменил F1-метрику модели решающего дерева."
   ]
  },
  {
   "cell_type": "code",
   "execution_count": 27,
   "metadata": {
    "scrolled": true
   },
   "outputs": [
    {
     "name": "stderr",
     "output_type": "stream",
     "text": [
      "100%|██████████| 17/17 [00:46<00:00,  2.71s/it]"
     ]
    },
    {
     "name": "stdout",
     "output_type": "stream",
     "text": [
      "F1 наилучшей модели на валидационной выборке: 0.648587570621469 Количество деревьев: 41 Mаксимальная глубина: 12\n"
     ]
    },
    {
     "name": "stderr",
     "output_type": "stream",
     "text": [
      "\n"
     ]
    }
   ],
   "source": [
    "best_model_forest = None\n",
    "best_result_forest = 0\n",
    "best_est_forest = 0\n",
    "best_depth_forest = 0\n",
    "\n",
    "for est in tqdm(range(2, 51, 3)):\n",
    "    for depth in range (1, 16):\n",
    "        model_forest = RandomForestClassifier(random_state=3301, criterion='gini', n_estimators=est, max_depth=depth)\n",
    "        \n",
    "        model_forest.fit(features_upsampled, target_upsampled) \n",
    "        forest_pred = model_forest.predict(features_valid) \n",
    "    \n",
    "        result = f1_score(target_valid, forest_pred)\n",
    "        \n",
    "        if result > best_result_forest:\n",
    "            best_model_forest = model_forest\n",
    "            best_result_forest = result\n",
    "\n",
    "            best_est_forest = est\n",
    "            best_depth_forest = depth\n",
    "        \n",
    "print('F1 наилучшей модели на валидационной выборке:', best_result_forest, \n",
    "      'Количество деревьев:', best_est_forest, 'Mаксимальная глубина:', best_depth_forest)"
   ]
  },
  {
   "cell_type": "markdown",
   "metadata": {},
   "source": [
    "При этом методе модель случайного леса с количеством деревьев **41** и глубиной **12** повысило F1-метрику на валидационной выборке чуть менее **0,65**. \n",
    "\n",
    "Далее попробуем вариант решения несбалансированности классов методом *downsampling*."
   ]
  },
  {
   "cell_type": "code",
   "execution_count": 28,
   "metadata": {},
   "outputs": [],
   "source": [
    "def downsample(features, target, fraction):\n",
    "    features_zeros = features[target == 0]\n",
    "    features_ones = features[target == 1]\n",
    "    target_zeros = target[target == 0]\n",
    "    target_ones = target[target == 1]\n",
    "\n",
    "    features_downsampled = pd.concat(\n",
    "        [features_zeros.sample(frac=fraction, random_state=3301)] + [features_ones])\n",
    "    target_downsampled = pd.concat(\n",
    "        [target_zeros.sample(frac=fraction, random_state=3301)] + [target_ones])\n",
    "    \n",
    "    features_downsampled, target_downsampled = shuffle(\n",
    "        features_downsampled, target_downsampled, random_state=3301)\n",
    "    \n",
    "    return features_downsampled, target_downsampled\n",
    "\n",
    "features_downsampled, target_downsampled = downsample(features_train, target_train, 0.25)"
   ]
  },
  {
   "cell_type": "code",
   "execution_count": 29,
   "metadata": {},
   "outputs": [
    {
     "name": "stdout",
     "output_type": "stream",
     "text": [
      "F1-метрика на валидационной выборке: 0.5210084033613446\n"
     ]
    }
   ],
   "source": [
    "model = LogisticRegression(random_state=3301, solver='liblinear')\n",
    "model.fit(features_downsampled, target_downsampled)\n",
    "predicted_valid = model.predict(features_valid)\n",
    "print(\"F1-метрика на валидационной выборке:\", f1_score(target_valid, predicted_valid))"
   ]
  },
  {
   "cell_type": "markdown",
   "metadata": {},
   "source": [
    "Показатель F1-метрики логистической регрессии при данном методе лишь незначительно улучшился."
   ]
  },
  {
   "cell_type": "code",
   "execution_count": 30,
   "metadata": {
    "scrolled": true
   },
   "outputs": [
    {
     "name": "stdout",
     "output_type": "stream",
     "text": [
      "F1 наилучшей модели на валидационной выборке: 0.592328278322926 Глубина дерева: 6\n"
     ]
    },
    {
     "data": {
      "image/png": "[encoded data removed]",
      "text/plain": [
       "<Figure size 640x480 with 1 Axes>"
      ]
     },
     "metadata": {},
     "output_type": "display_data"
    }
   ],
   "source": [
    "best_model_tree = None\n",
    "best_result_tree = 0\n",
    "best_depth_tree = 0\n",
    "linegraf = []\n",
    "indexgraf = []\n",
    "\n",
    "for depth in range(1, 16):\n",
    "    model_tree = DecisionTreeClassifier(random_state=3301, max_depth=depth)\n",
    "    \n",
    "    model_tree.fit(features_downsampled, target_downsampled) \n",
    "    tree_pred = model_tree.predict(features_valid) \n",
    "    \n",
    "    result = f1_score(target_valid, tree_pred) \n",
    "    \n",
    "    if result > best_result_tree:\n",
    "        best_model_tree = model_tree\n",
    "        best_result_tree = result\n",
    "        best_depth_tree = depth\n",
    "    linegraf.append(result) \n",
    "    indexgraf.append(depth)\n",
    "\n",
    "line = pd.Series(linegraf, index=indexgraf)\n",
    "\n",
    "print('F1 наилучшей модели на валидационной выборке:', best_result_tree, 'Глубина дерева:', best_depth_tree)\n",
    "line.plot(title='Уровень F1 в зависимости от глубины дерева', xlabel='Глубина дерева', ylabel='F1');"
   ]
  },
  {
   "cell_type": "markdown",
   "metadata": {},
   "source": [
    "При этом варианте лучшая модель решающего дерева едва дотягивает до неободимого нам уровня."
   ]
  },
  {
   "cell_type": "code",
   "execution_count": 31,
   "metadata": {
    "scrolled": true
   },
   "outputs": [
    {
     "name": "stderr",
     "output_type": "stream",
     "text": [
      "100%|██████████| 17/17 [00:19<00:00,  1.16s/it]"
     ]
    },
    {
     "name": "stdout",
     "output_type": "stream",
     "text": [
      "F1 наилучшей модели на валидационной выборке: 0.6275924256086564 Количество деревьев: 50 Максимальная глубина: 9\n"
     ]
    },
    {
     "name": "stderr",
     "output_type": "stream",
     "text": [
      "\n"
     ]
    }
   ],
   "source": [
    "best_model_forest = None\n",
    "best_result_forest = 0\n",
    "best_est_forest = 0\n",
    "best_depth_forest = 0\n",
    "\n",
    "for est in tqdm(range(2, 51, 3)):\n",
    "    for depth in range (1, 16):\n",
    "        model_forest = RandomForestClassifier(random_state=3301, criterion='gini', n_estimators=est, max_depth=depth)\n",
    "        \n",
    "        model_forest.fit(features_downsampled, target_downsampled) \n",
    "        forest_pred = model_forest.predict(features_valid) \n",
    "    \n",
    "        result = f1_score(target_valid, forest_pred)\n",
    "        \n",
    "        if result > best_result_forest:\n",
    "            best_model_forest = model_forest\n",
    "            best_result_forest = result\n",
    "\n",
    "            best_est_forest = est\n",
    "            best_depth_forest = depth\n",
    "\n",
    "print('F1 наилучшей модели на валидационной выборке:', best_result_forest, \n",
    "      'Количество деревьев:', best_est_forest, 'Максимальная глубина:', best_depth_forest)"
   ]
  },
  {
   "cell_type": "markdown",
   "metadata": {},
   "source": [
    "Лучшая модель случайного леса в данном варианте хоть и дала F1-метрике результат чуть менее **0,63**, но у нас были и более лучшие модели.  "
   ]
  },
  {
   "cell_type": "markdown",
   "metadata": {},
   "source": [
    "**Вывод:** Использовав несолько вариантов борьбы с несбалансированностью целевого признака, мы выяснили, что наилучшую F1-метрику чуть менее **0,65** показала случайного леса с количеством деревьев **41** и глубиной **12** при использовании метода *upsampling*. Данную модель и будем далее проверять на тестовоый выборке.  "
   ]
  },
  {
   "cell_type": "markdown",
   "metadata": {},
   "source": [
    "## Тестирование модели"
   ]
  },
  {
   "cell_type": "markdown",
   "metadata": {},
   "source": [
    "Итак, проведем тестирование модели с налучшей F1-метрикой, полученной на валидационной выборке."
   ]
  },
  {
   "cell_type": "code",
   "execution_count": 32,
   "metadata": {},
   "outputs": [
    {
     "data": {
      "text/plain": [
       "0.6216867469879517"
      ]
     },
     "execution_count": 32,
     "metadata": {},
     "output_type": "execute_result"
    }
   ],
   "source": [
    "model_forest = RandomForestClassifier(random_state=3301, criterion='gini', n_estimators=41, max_depth=12)\n",
    "\n",
    "model_forest.fit(features_upsampled, target_upsampled) \n",
    "forest_pred = model_forest.predict(features_test) \n",
    "\n",
    "f1_score(target_test, forest_pred)"
   ]
  },
  {
   "cell_type": "markdown",
   "metadata": {},
   "source": [
    "Успешно, как мы видим, выбранная модель достигла F1-метрики **0,62** на тестовой выборке, хотя на валидационной выборке у нее были и еще более лучшие результаты.\n",
    "\n",
    "Теперь давайте посмотрим, какова площадь ROC-коривой нашей модели."
   ]
  },
  {
   "cell_type": "code",
   "execution_count": 33,
   "metadata": {},
   "outputs": [
    {
     "name": "stdout",
     "output_type": "stream",
     "text": [
      "0.8572229321147462\n"
     ]
    }
   ],
   "source": [
    "probabilities_test = model_forest.predict_proba(features_test)\n",
    "probabilities_one_test = probabilities_test[:, 1]\n",
    "\n",
    "auc_roc = roc_auc_score(target_test, probabilities_one_test)\n",
    "\n",
    "print(auc_roc)"
   ]
  },
  {
   "cell_type": "code",
   "execution_count": 34,
   "metadata": {},
   "outputs": [
    {
     "name": "stdout",
     "output_type": "stream",
     "text": [
      "Порог = 0.00 | Точность = 0.197, Полнота = 1.000, F1 = 0.328\n",
      "Порог = 0.02 | Точность = 0.204, Полнота = 0.982, F1 = 0.338\n",
      "Порог = 0.04 | Точность = 0.217, Полнота = 0.982, F1 = 0.356\n",
      "Порог = 0.06 | Точность = 0.230, Полнота = 0.980, F1 = 0.373\n",
      "Порог = 0.08 | Точность = 0.244, Полнота = 0.977, F1 = 0.390\n",
      "Порог = 0.10 | Точность = 0.254, Полнота = 0.964, F1 = 0.402\n",
      "Порог = 0.12 | Точность = 0.265, Полнота = 0.949, F1 = 0.414\n",
      "Порог = 0.14 | Точность = 0.276, Полнота = 0.936, F1 = 0.426\n",
      "Порог = 0.16 | Точность = 0.288, Полнота = 0.924, F1 = 0.439\n",
      "Порог = 0.18 | Точность = 0.299, Полнота = 0.911, F1 = 0.451\n",
      "Порог = 0.20 | Точность = 0.318, Полнота = 0.908, F1 = 0.471\n",
      "Порог = 0.22 | Точность = 0.334, Полнота = 0.903, F1 = 0.487\n",
      "Порог = 0.24 | Точность = 0.352, Полнота = 0.891, F1 = 0.505\n",
      "Порог = 0.26 | Точность = 0.364, Полнота = 0.875, F1 = 0.515\n",
      "Порог = 0.28 | Точность = 0.380, Полнота = 0.858, F1 = 0.526\n",
      "Порог = 0.30 | Точность = 0.399, Полнота = 0.842, F1 = 0.541\n",
      "Порог = 0.32 | Точность = 0.419, Полнота = 0.819, F1 = 0.555\n",
      "Порог = 0.34 | Точность = 0.434, Полнота = 0.789, F1 = 0.560\n",
      "Порог = 0.36 | Точность = 0.453, Полнота = 0.768, F1 = 0.570\n",
      "Порог = 0.38 | Точность = 0.476, Полнота = 0.756, F1 = 0.584\n",
      "Порог = 0.40 | Точность = 0.494, Полнота = 0.738, F1 = 0.592\n",
      "Порог = 0.42 | Точность = 0.520, Полнота = 0.725, F1 = 0.606\n",
      "Порог = 0.44 | Точность = 0.536, Полнота = 0.707, F1 = 0.610\n",
      "Порог = 0.46 | Точность = 0.554, Полнота = 0.690, F1 = 0.615\n",
      "Порог = 0.48 | Точность = 0.568, Полнота = 0.679, F1 = 0.619\n",
      "Порог = 0.50 | Точность = 0.590, Полнота = 0.656, F1 = 0.622\n"
     ]
    }
   ],
   "source": [
    "for threshold in np.arange(0, 0.51, 0.02):\n",
    "    predicted_test = probabilities_one_test > threshold\n",
    "    precision = precision_score(target_test, predicted_test)\n",
    "    recall = recall_score(target_test, predicted_test)\n",
    "    f1 = f1_score(target_test, predicted_test)\n",
    "\n",
    "    print(f'Порог = {threshold:.2f} | Точность = {precision:.3f}, Полнота = {recall:.3f}, F1 = {f1:.3f}')"
   ]
  },
  {
   "cell_type": "code",
   "execution_count": 35,
   "metadata": {},
   "outputs": [
    {
     "data": {
      "image/png": "[encoded data removed]",
      "text/plain": [
       "<Figure size 640x480 with 1 Axes>"
      ]
     },
     "metadata": {},
     "output_type": "display_data"
    }
   ],
   "source": [
    "fpr, tpr, thresholds = roc_curve(target_test, probabilities_one_test)\n",
    "\n",
    "plt.figure()\n",
    "\n",
    "plt.plot(fpr, tpr, color='darkorange',\n",
    "         label='ROC-кривая (area = %0.2f)' % auc_roc)\n",
    "plt.plot([0, 1], [0, 1], color='navy', linestyle='--')\n",
    "\n",
    "plt.xlim([0.0, 1.0])\n",
    "plt.ylim([0.0, 1.05])\n",
    "plt.xlabel('False Positive Rate')\n",
    "plt.ylabel('True Positive Rate')\n",
    "plt.title('ROC-кривая модели')\n",
    "plt.legend(loc=\"lower right\")\n",
    "\n",
    "plt.show();"
   ]
  },
  {
   "cell_type": "markdown",
   "metadata": {},
   "source": [
    "Площадь AUC **0,86**, похоже неплохой результат."
   ]
  },
  {
   "cell_type": "code",
   "execution_count": 36,
   "metadata": {},
   "outputs": [
    {
     "data": {
      "text/plain": [
       "0.32845800250731305"
      ]
     },
     "execution_count": 36,
     "metadata": {},
     "output_type": "execute_result"
    }
   ],
   "source": [
    "dummy_model = DummyClassifier(strategy='constant', constant=1)\n",
    "dummy_model.fit(features_train, target_train)\n",
    "f1_score(dummy_model.predict(features_test), target_test)"
   ]
  },
  {
   "cell_type": "code",
   "execution_count": 37,
   "metadata": {},
   "outputs": [
    {
     "data": {
      "text/plain": [
       "0.6564885496183206"
      ]
     },
     "execution_count": 37,
     "metadata": {},
     "output_type": "execute_result"
    }
   ],
   "source": [
    "recall_score(target_test, forest_pred)"
   ]
  },
  {
   "cell_type": "markdown",
   "metadata": {},
   "source": [
    "**Итоговый вывод:**\n",
    "\n",
    "В проекте мы изучили данные, разделили файлы на выборки, исследовали разлчные модели, предприняи меры к адаптации моделей к несбалансированности классов, проверили качество на тестовой выборке.\n",
    "\n",
    "В результате проведенных действий мы получили наиболее точную модель случайного леса с количеством деревьев 41 и глубиной дерева 12, которая дает F1-метрику на тестовой выборке около **0,62**. Таким образом, поставленная цель нами была достигнута. "
   ]
  }
 ],
 "metadata": {
  "kernelspec": {
   "display_name": "Python 3 (ipykernel)",
   "language": "python",
   "name": "python3"
  },
  "language_info": {
   "codemirror_mode": {
    "name": "ipython",
    "version": 3
   },
   "file_extension": ".py",
   "mimetype": "text/x-python",
   "name": "python",
   "nbconvert_exporter": "python",
   "pygments_lexer": "ipython3",
   "version": "3.11.5"
  },
  "toc": {
   "base_numbering": 1,
   "nav_menu": {
    "height": "165.995px",
    "width": "576.991px"
   },
   "number_sections": true,
   "sideBar": true,
   "skip_h1_title": true,
   "title_cell": "Содержание",
   "title_sidebar": "Contents",
   "toc_cell": true,
   "toc_position": {
    "height": "calc(100% - 180px)",
    "left": "10px",
    "top": "150px",
    "width": "165px"
   },
   "toc_section_display": true,
   "toc_window_display": false
  }
 },
 "nbformat": 4,
 "nbformat_minor": 2
}
